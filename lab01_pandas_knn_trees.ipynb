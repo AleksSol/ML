{
 "cells": [
  {
   "cell_type": "markdown",
   "metadata": {},
   "source": [
    "# Лабораторная работа 1. Pandas, метод ближайших соседей и решающие деревья."
   ]
  },
  {
   "cell_type": "markdown",
   "metadata": {},
   "source": [
    "ФИО: думбай Алексей Дмитриевич\n",
    "\n",
    "Группа: 317"
   ]
  },
  {
   "cell_type": "code",
   "execution_count": 1,
   "metadata": {
    "collapsed": true
   },
   "outputs": [],
   "source": [
    "import numpy as np\n",
    "import pandas as pd"
   ]
  },
  {
   "cell_type": "markdown",
   "metadata": {},
   "source": [
    "## Часть 1: Pandas"
   ]
  },
  {
   "cell_type": "markdown",
   "metadata": {},
   "source": [
    "#### Ответьте на вопросы о данных по авиарейсам в США за январь-апрель 2008 года.\n",
    "\n",
    "Данные: http://stat-computing.org/dataexpo/2009/2008.csv.bz2\n",
    "(обратите внимание, что распаковывать этот файл не обязательно — функция `pandas.read_csv` умеет читать из архивов автоматически)\n",
    "\n",
    "Описание: http://stat-computing.org/dataexpo/2009/the-data.html\n",
    "\n",
    "1. Какая из причин отмены рейса (`CancellationCode`) была самой частой? (расшифровки кодов можно найти в описании данных)\n",
    "2. Найдите среднее, минимальное и максимальное расстояние, пройденное самолетом.\n",
    "3. Не выглядит ли подозрительным минимальное пройденное расстояние? В какие дни и на каких рейсах оно было? Какое расстояние было пройдено этими же рейсами в другие дни?\n",
    "4. Из какого аэропорта было произведено больше всего вылетов? В каком городе он находится?\n",
    "5. Найдите для каждого аэропорта среднее время полета (`AirTime`) по всем вылетевшим из него рейсам. Какой аэропорт имеет наибольшее значение этого показателя?\n",
    "6. Найдите аэропорт, у которого наибольшая доля задержанных (`DepDelay > 0`) рейсов. Исключите при этом из рассмотрения аэропорты, из которых было отправлено меньше 1000 рейсов (используйте функцию `filter` после `groupby`)."
   ]
  },
  {
   "cell_type": "code",
   "execution_count": 247,
   "metadata": {
    "collapsed": true
   },
   "outputs": [],
   "source": [
    "obj = pd.read_csv('2008.csv')"
   ]
  },
  {
   "cell_type": "code",
   "execution_count": 248,
   "metadata": {
    "collapsed": false
   },
   "outputs": [],
   "source": [
    "airports = pd.read_csv('airports.csv')"
   ]
  },
  {
   "cell_type": "code",
   "execution_count": 4,
   "metadata": {
    "collapsed": false
   },
   "outputs": [
    {
     "name": "stdout",
     "output_type": "stream",
     "text": [
      "1. Наиболее частая причина срыва рейса: weather\n"
     ]
    }
   ],
   "source": [
    "type_cancel = {'A' : 'carrier', 'B' : 'weather', 'C' : 'NAS', 'D' : 'security'}\n",
    "tmp = obj['CancellationCode'].mode()\n",
    "for i in tmp:\n",
    "    print('1. Наиболее частая причина срыва рейса:', type_cancel[i])"
   ]
  },
  {
   "cell_type": "code",
   "execution_count": 256,
   "metadata": {
    "collapsed": false,
    "scrolled": false
   },
   "outputs": [
    {
     "name": "stdout",
     "output_type": "stream",
     "text": [
      "2. Расстояние пройденное самолетом:\n",
      "Максимальное: 4962\n",
      "Минимальное: 11\n",
      "Среднее: 726.3870294253928\n"
     ]
    }
   ],
   "source": [
    "print('2. Расстояние пройденное самолетом:\\nМаксимальное:', obj['Distance'].max())\n",
    "print('Минимальное:', obj['Distance'].min())\n",
    "print('Среднее:', obj['Distance'].mean())"
   ]
  },
  {
   "cell_type": "markdown",
   "metadata": {},
   "source": [
    "Со всей ответственность можно утверждать, что да, расстояние кажется подозрительным."
   ]
  },
  {
   "cell_type": "code",
   "execution_count": 263,
   "metadata": {
    "collapsed": false
   },
   "outputs": [],
   "source": [
    "flight_num = obj[obj.Distance == 11]"
   ]
  },
  {
   "cell_type": "code",
   "execution_count": 270,
   "metadata": {
    "collapsed": false
   },
   "outputs": [],
   "source": [
    "info_fl = flight_num[[\"Month\", \"DayofMonth\", \"DayOfWeek\", \"FlightNum\"]]\n",
    "    "
   ]
  },
  {
   "cell_type": "code",
   "execution_count": 272,
   "metadata": {
    "collapsed": false
   },
   "outputs": [
    {
     "name": "stdout",
     "output_type": "stream",
     "text": [
      "Минимальное расстояние достигалось на следующих рейсах в следующие дни(2008 год):\n"
     ]
    },
    {
     "data": {
      "text/html": [
       "<div>\n",
       "<table border=\"1\" class=\"dataframe\">\n",
       "  <thead>\n",
       "    <tr style=\"text-align: right;\">\n",
       "      <th></th>\n",
       "      <th>Month</th>\n",
       "      <th>DayofMonth</th>\n",
       "      <th>DayOfWeek</th>\n",
       "      <th>FlightNum</th>\n",
       "    </tr>\n",
       "  </thead>\n",
       "  <tbody>\n",
       "    <tr>\n",
       "      <th>2547298</th>\n",
       "      <td>5</td>\n",
       "      <td>15</td>\n",
       "      <td>4</td>\n",
       "      <td>4988</td>\n",
       "    </tr>\n",
       "    <tr>\n",
       "      <th>4392215</th>\n",
       "      <td>8</td>\n",
       "      <td>10</td>\n",
       "      <td>7</td>\n",
       "      <td>5572</td>\n",
       "    </tr>\n",
       "  </tbody>\n",
       "</table>\n",
       "</div>"
      ],
      "text/plain": [
       "         Month  DayofMonth  DayOfWeek  FlightNum\n",
       "2547298      5          15          4       4988\n",
       "4392215      8          10          7       5572"
      ]
     },
     "execution_count": 272,
     "metadata": {},
     "output_type": "execute_result"
    }
   ],
   "source": [
    "print(\"Минимальное расстояние достигалось на следующих рейсах в следующие дни(2008 год):\")\n",
    "info_fl"
   ]
  },
  {
   "cell_type": "code",
   "execution_count": 278,
   "metadata": {
    "collapsed": false
   },
   "outputs": [
    {
     "name": "stdout",
     "output_type": "stream",
     "text": [
      "Рейс номер  4988 в среднем проходил 770.2088888888889 миль\n",
      "Рейс номер  5572 в среднем проходил 384.75181598062954 миль\n"
     ]
    }
   ],
   "source": [
    "for i in flight_num.FlightNum:\n",
    "    print(\"Рейс номер \", i, 'в среднем проходил', obj[obj.FlightNum == i].Distance.mean(), 'миль')"
   ]
  },
  {
   "cell_type": "code",
   "execution_count": 253,
   "metadata": {
    "collapsed": false
   },
   "outputs": [
    {
     "name": "stdout",
     "output_type": "stream",
     "text": [
      "4. Наиболее частые вылеты из аэропортов:\n",
      "William B Hartsfield-Atlanta Intl Atlanta\n"
     ]
    }
   ],
   "source": [
    "print('4. Наиболее частые вылеты из аэропортов:')\n",
    "for i in obj['Origin'].mode():\n",
    "    print(airports.groupby(['iata'])[\"airport\"].first()[i],\n",
    "          airports.groupby(['iata'])[\"city\"].first()[i])"
   ]
  },
  {
   "cell_type": "code",
   "execution_count": 254,
   "metadata": {
    "collapsed": false
   },
   "outputs": [
    {
     "name": "stdout",
     "output_type": "stream",
     "text": [
      "5. Наибольшее значение средней длины полета из аэропорта имеет: Luis Munoz Marin International San Juan\n"
     ]
    }
   ],
   "source": [
    "answ = obj.groupby([\"Origin\"])['AirTime'].mean()\n",
    "print('5. Наибольшее значение средней длины полета из аэропорта имеет:',\n",
    "      airports.groupby(['iata'])[\"airport\"].first()[answ.idxmax()],\n",
    "      airports.groupby(['iata'])[\"city\"].first()[answ.idxmax()])\n",
    "      "
   ]
  },
  {
   "cell_type": "code",
   "execution_count": 252,
   "metadata": {
    "collapsed": false
   },
   "outputs": [
    {
     "name": "stdout",
     "output_type": "stream",
     "text": [
      "6. Наибольшую долю задержанных самолетов имеет: Dallas Love  Dallas\n"
     ]
    }
   ],
   "source": [
    "num_fl = obj[[\"Origin\", \"DepDelay\"]]\n",
    "airport_num = num_fl.groupby([\"Origin\"])\n",
    "new_airp = airport_num.filter(lambda x: len(x) >= 1000)\n",
    "dep_air_size = new_airp[new_airp.DepDelay > 0].groupby([\"Origin\"]).size()\n",
    "all_size = new_airp.groupby(\"Origin\").size()\n",
    "new_series = dep_air_size / all_size \n",
    "print('6. Наибольшую долю задержанных самолетов имеет:',\n",
    "      airports.groupby(['iata'])[\"airport\"].first()[new_series.idxmax()],\n",
    "      airports.groupby(['iata'])[\"city\"].first()[new_series.idxmax()])"
   ]
  },
  {
   "cell_type": "markdown",
   "metadata": {},
   "source": [
    "## Часть 2: метрические методы и категориальные признаки"
   ]
  },
  {
   "cell_type": "markdown",
   "metadata": {},
   "source": [
    "Все дальнейшие эксперименты предлагается проводить на данных соревнования Amazon Employee Access Challenge: https://www.kaggle.com/c/amazon-employee-access-challenge\n",
    "\n",
    "В данной задаче предлагается предсказать, будет ли одобрен запрос сотрудника на получение доступа к тому или иному ресурсу. Все признаки являются категориальными.\n",
    "\n",
    "Для удобства данные можно загрузить по ссылке: https://www.dropbox.com/s/q6fbs1vvhd5kvek/amazon.csv\n",
    "\n",
    "Сразу прочитаем данные и создадим разбиение на обучение и контроль:"
   ]
  },
  {
   "cell_type": "code",
   "execution_count": 3,
   "metadata": {
    "collapsed": false
   },
   "outputs": [
    {
     "data": {
      "text/html": [
       "<div>\n",
       "<table border=\"1\" class=\"dataframe\">\n",
       "  <thead>\n",
       "    <tr style=\"text-align: right;\">\n",
       "      <th></th>\n",
       "      <th>ACTION</th>\n",
       "      <th>RESOURCE</th>\n",
       "      <th>MGR_ID</th>\n",
       "      <th>ROLE_ROLLUP_1</th>\n",
       "      <th>ROLE_ROLLUP_2</th>\n",
       "      <th>ROLE_DEPTNAME</th>\n",
       "      <th>ROLE_TITLE</th>\n",
       "      <th>ROLE_FAMILY_DESC</th>\n",
       "      <th>ROLE_FAMILY</th>\n",
       "      <th>ROLE_CODE</th>\n",
       "    </tr>\n",
       "  </thead>\n",
       "  <tbody>\n",
       "    <tr>\n",
       "      <th>0</th>\n",
       "      <td>1</td>\n",
       "      <td>39353</td>\n",
       "      <td>85475</td>\n",
       "      <td>117961</td>\n",
       "      <td>118300</td>\n",
       "      <td>123472</td>\n",
       "      <td>117905</td>\n",
       "      <td>117906</td>\n",
       "      <td>290919</td>\n",
       "      <td>117908</td>\n",
       "    </tr>\n",
       "    <tr>\n",
       "      <th>1</th>\n",
       "      <td>1</td>\n",
       "      <td>17183</td>\n",
       "      <td>1540</td>\n",
       "      <td>117961</td>\n",
       "      <td>118343</td>\n",
       "      <td>123125</td>\n",
       "      <td>118536</td>\n",
       "      <td>118536</td>\n",
       "      <td>308574</td>\n",
       "      <td>118539</td>\n",
       "    </tr>\n",
       "    <tr>\n",
       "      <th>2</th>\n",
       "      <td>1</td>\n",
       "      <td>36724</td>\n",
       "      <td>14457</td>\n",
       "      <td>118219</td>\n",
       "      <td>118220</td>\n",
       "      <td>117884</td>\n",
       "      <td>117879</td>\n",
       "      <td>267952</td>\n",
       "      <td>19721</td>\n",
       "      <td>117880</td>\n",
       "    </tr>\n",
       "    <tr>\n",
       "      <th>3</th>\n",
       "      <td>1</td>\n",
       "      <td>36135</td>\n",
       "      <td>5396</td>\n",
       "      <td>117961</td>\n",
       "      <td>118343</td>\n",
       "      <td>119993</td>\n",
       "      <td>118321</td>\n",
       "      <td>240983</td>\n",
       "      <td>290919</td>\n",
       "      <td>118322</td>\n",
       "    </tr>\n",
       "    <tr>\n",
       "      <th>4</th>\n",
       "      <td>1</td>\n",
       "      <td>42680</td>\n",
       "      <td>5905</td>\n",
       "      <td>117929</td>\n",
       "      <td>117930</td>\n",
       "      <td>119569</td>\n",
       "      <td>119323</td>\n",
       "      <td>123932</td>\n",
       "      <td>19793</td>\n",
       "      <td>119325</td>\n",
       "    </tr>\n",
       "  </tbody>\n",
       "</table>\n",
       "</div>"
      ],
      "text/plain": [
       "   ACTION  RESOURCE  MGR_ID  ROLE_ROLLUP_1  ROLE_ROLLUP_2  ROLE_DEPTNAME  \\\n",
       "0       1     39353   85475         117961         118300         123472   \n",
       "1       1     17183    1540         117961         118343         123125   \n",
       "2       1     36724   14457         118219         118220         117884   \n",
       "3       1     36135    5396         117961         118343         119993   \n",
       "4       1     42680    5905         117929         117930         119569   \n",
       "\n",
       "   ROLE_TITLE  ROLE_FAMILY_DESC  ROLE_FAMILY  ROLE_CODE  \n",
       "0      117905            117906       290919     117908  \n",
       "1      118536            118536       308574     118539  \n",
       "2      117879            267952        19721     117880  \n",
       "3      118321            240983       290919     118322  \n",
       "4      119323            123932        19793     119325  "
      ]
     },
     "execution_count": 3,
     "metadata": {},
     "output_type": "execute_result"
    }
   ],
   "source": [
    "data = pd.read_csv('amazon.csv')\n",
    "data.head()"
   ]
  },
  {
   "cell_type": "code",
   "execution_count": 4,
   "metadata": {
    "collapsed": false
   },
   "outputs": [
    {
     "data": {
      "text/plain": [
       "(32769, 10)"
      ]
     },
     "execution_count": 4,
     "metadata": {},
     "output_type": "execute_result"
    }
   ],
   "source": [
    "data.shape"
   ]
  },
  {
   "cell_type": "code",
   "execution_count": 5,
   "metadata": {
    "collapsed": false
   },
   "outputs": [
    {
     "data": {
      "text/plain": [
       "0.9421099209618847"
      ]
     },
     "execution_count": 5,
     "metadata": {},
     "output_type": "execute_result"
    }
   ],
   "source": [
    "# доля положительных примеров\n",
    "data.ACTION.mean()"
   ]
  },
  {
   "cell_type": "code",
   "execution_count": 6,
   "metadata": {
    "collapsed": false
   },
   "outputs": [
    {
     "name": "stdout",
     "output_type": "stream",
     "text": [
      "ACTION 2\n",
      "RESOURCE 7518\n",
      "MGR_ID 4243\n",
      "ROLE_ROLLUP_1 128\n",
      "ROLE_ROLLUP_2 177\n",
      "ROLE_DEPTNAME 449\n",
      "ROLE_TITLE 343\n",
      "ROLE_FAMILY_DESC 2358\n",
      "ROLE_FAMILY 67\n",
      "ROLE_CODE 343\n"
     ]
    }
   ],
   "source": [
    "# число значений у признаков\n",
    "for col_name in data.columns:\n",
    "    print (col_name, len(data[col_name].unique()))"
   ]
  },
  {
   "cell_type": "code",
   "execution_count": 7,
   "metadata": {
    "collapsed": true
   },
   "outputs": [],
   "source": [
    "from sklearn.cross_validation import train_test_split\n",
    "X_train, X_test, y_train, y_test = train_test_split(data.iloc[:, 1:], data.iloc[:, 0],\n",
    "                                                    test_size=0.3, random_state=241)"
   ]
  },
  {
   "cell_type": "markdown",
   "metadata": {},
   "source": [
    "#### 1. Реализуйте три функции расстояния на категориальных признаках, которые обсуждались на втором семинаре.\n",
    "\n",
    "Проще всего будет определить метрики как [user-defined distance](http://scikit-learn.org/stable/modules/generated/sklearn.neighbors.DistanceMetric.html), после чего воспользоваться реализацией kNN из sklearn (в этом случае используйте функцию predict_proba). Можно реализовать метод k ближайших соседей и самостоятально — в этом случае учитите, что он должен возвращать оценку вероятности, то есть отношение объектов первого класса среди соседей к числу соседей).\n",
    "\n",
    "Постарайтесь уделить особое внимание эффективности кода — при реализации метрик \"в лоб\" вы можете столкнуться с очень большим временем выполнения.\n",
    "\n",
    "#### Подсчитайте для каждой из метрик качество на тестовой выборке `X_test` при числе соседей $k = 10$. Мера качества — AUC-ROC.\n",
    "\n",
    "#### Какая функция расстояния оказалась лучшей?"
   ]
  },
  {
   "cell_type": "code",
   "execution_count": 8,
   "metadata": {
    "collapsed": true
   },
   "outputs": [],
   "source": [
    "from sklearn import neighbors\n",
    "from sklearn import metrics\n",
    "import sklearn"
   ]
  },
  {
   "cell_type": "markdown",
   "metadata": {},
   "source": [
    "Приведение выборки к numpy для ускорения вычислений"
   ]
  },
  {
   "cell_type": "code",
   "execution_count": 9,
   "metadata": {
    "collapsed": false
   },
   "outputs": [],
   "source": [
    "X_tr = np.array(X_train)\n",
    "y_tr = np.array(y_train)\n",
    "x = np.array(X_test)\n",
    "y = np.array(y_test)"
   ]
  },
  {
   "cell_type": "markdown",
   "metadata": {},
   "source": [
    "Кодирование признаков от 0 до максимума по признаку:"
   ]
  },
  {
   "cell_type": "code",
   "execution_count": 10,
   "metadata": {
    "collapsed": true
   },
   "outputs": [],
   "source": [
    "max_len = 0\n",
    "for col_name in data.columns:\n",
    "    if(len(data[col_name].unique()) > max_len):\n",
    "        max_len = len(data[col_name].unique())\n",
    "X_trm = X_tr.copy()\n",
    "x_m = x.copy()\n",
    "for i in range(X_tr.shape[1]):\n",
    "    A, B = np.unique(np.asarray(X_tr[:, i]), return_counts=True)\n",
    "    tmp = {}\n",
    "    for j in range(A.size):\n",
    "        tmp[A[j]] = (j, B[j])\n",
    "    for l in range(X_trm[:, i].size):\n",
    "        X_trm[l, i] = tmp[X_trm[l,i]][0]\n",
    "    for l in range(x_m[:, i].size):\n",
    "        if (x_m[l, i] in tmp):\n",
    "            x_m[l, i] = tmp[x_m[l,i]][0]\n",
    "        else:\n",
    "            x_m[l, i] = A.size"
   ]
  },
  {
   "cell_type": "markdown",
   "metadata": {},
   "source": [
    "### Индекс совпадения "
   ]
  },
  {
   "cell_type": "code",
   "execution_count": 231,
   "metadata": {
    "collapsed": false,
    "scrolled": true
   },
   "outputs": [],
   "source": [
    "def ind_eq(x,y):\n",
    "    return np.sum((x != y))"
   ]
  },
  {
   "cell_type": "code",
   "execution_count": 232,
   "metadata": {
    "collapsed": false
   },
   "outputs": [],
   "source": [
    "cl = sklearn.neighbors.KNeighborsClassifier(n_neighbors=10, weights='uniform', algorithm='brute', leaf_size=30, p=2, metric=ind_eq, n_jobs=1)"
   ]
  },
  {
   "cell_type": "code",
   "execution_count": 233,
   "metadata": {
    "collapsed": false
   },
   "outputs": [
    {
     "data": {
      "text/plain": [
       "KNeighborsClassifier(algorithm='brute', leaf_size=30,\n",
       "           metric=<function ind_eq at 0x000000F5F32B5C80>,\n",
       "           metric_params=None, n_jobs=1, n_neighbors=10, p=2,\n",
       "           weights='uniform')"
      ]
     },
     "execution_count": 233,
     "metadata": {},
     "output_type": "execute_result"
    }
   ],
   "source": [
    "cl.fit(X_tr, y_tr)\n"
   ]
  },
  {
   "cell_type": "code",
   "execution_count": 234,
   "metadata": {
    "collapsed": false
   },
   "outputs": [
    {
     "name": "stdout",
     "output_type": "stream",
     "text": [
      "Wall time: 24min 20s\n"
     ]
    }
   ],
   "source": [
    "%time y_score = cl.predict_proba(x)"
   ]
  },
  {
   "cell_type": "code",
   "execution_count": 235,
   "metadata": {
    "collapsed": false
   },
   "outputs": [
    {
     "name": "stdout",
     "output_type": "stream",
     "text": [
      "Для индикатора совпадения ROC-AUC равен 0.829499015542\n"
     ]
    }
   ],
   "source": [
    "print(\"Для индикатора совпадения ROC-AUC равен\",\n",
    "      metrics.roc_auc_score(y, y_score[:,1])) "
   ]
  },
  {
   "cell_type": "markdown",
   "metadata": {
    "collapsed": true
   },
   "source": [
    "### Сглаженный индикатор совпадения"
   ]
  },
  {
   "cell_type": "markdown",
   "metadata": {
    "collapsed": false
   },
   "source": [
    "Предобработка для получения  значений p2(j)"
   ]
  },
  {
   "cell_type": "code",
   "execution_count": 10,
   "metadata": {
    "collapsed": false,
    "scrolled": true
   },
   "outputs": [],
   "source": [
    "prob = []\n",
    "for i in range(X_tr.shape[1]):\n",
    "    A, B = np.unique(np.asarray(X_tr[:, i]), return_counts=True)\n",
    "    T = B.copy().astype(float)\n",
    "    \n",
    "    for l in range(T.size):\n",
    "        T[l] = np.sum(B[B < B[l]] * (B[B < B[l]] - 1)) / np.sum(B) / (np.sum(B) - 1)\n",
    "    T = np.append(T, np.zeros(max_len - T.size))\n",
    "    prob += [T]\n",
    "prob = np.array(prob)"
   ]
  },
  {
   "cell_type": "code",
   "execution_count": 11,
   "metadata": {
    "collapsed": false
   },
   "outputs": [],
   "source": [
    "def sec_r(x, y):\n",
    "    return np.sum((x!=y) + (x==y) * np.diag(prob[:, (x).astype(int)]))\n",
    "    "
   ]
  },
  {
   "cell_type": "code",
   "execution_count": 12,
   "metadata": {
    "collapsed": false
   },
   "outputs": [],
   "source": [
    "cl_2 = neighbors.KNeighborsClassifier(n_neighbors=10, weights='uniform', algorithm='brute',\n",
    "                                      leaf_size=30, metric= sec_r, n_jobs=1)"
   ]
  },
  {
   "cell_type": "code",
   "execution_count": 13,
   "metadata": {
    "collapsed": false
   },
   "outputs": [
    {
     "data": {
      "text/plain": [
       "KNeighborsClassifier(algorithm='brute', leaf_size=30,\n",
       "           metric=<function sec_r at 0x000000756EB92840>,\n",
       "           metric_params=None, n_jobs=1, n_neighbors=10, p=2,\n",
       "           weights='uniform')"
      ]
     },
     "execution_count": 13,
     "metadata": {},
     "output_type": "execute_result"
    }
   ],
   "source": [
    "cl_2.fit(X_trm, y_tr)"
   ]
  },
  {
   "cell_type": "code",
   "execution_count": 14,
   "metadata": {
    "collapsed": false
   },
   "outputs": [
    {
     "name": "stdout",
     "output_type": "stream",
     "text": [
      "Wall time: 1h 11min 10s\n"
     ]
    }
   ],
   "source": [
    "%time y_score_2 = cl_2.predict_proba(x_m)\n"
   ]
  },
  {
   "cell_type": "code",
   "execution_count": 15,
   "metadata": {
    "collapsed": false
   },
   "outputs": [
    {
     "name": "stdout",
     "output_type": "stream",
     "text": [
      "Для сглаженного индикатора совпадения ROC-AUC равен 0.833189474532\n"
     ]
    }
   ],
   "source": [
    "print(\"Для сглаженного индикатора совпадения ROC-AUC равен\",\n",
    "      metrics.roc_auc_score(y, y_score_2[:,1]))"
   ]
  },
  {
   "cell_type": "markdown",
   "metadata": {},
   "source": [
    "### Третья метрика"
   ]
  },
  {
   "cell_type": "markdown",
   "metadata": {},
   "source": [
    "Преподсчет для получения произведения логарифмов"
   ]
  },
  {
   "cell_type": "code",
   "execution_count": 10,
   "metadata": {
    "collapsed": false
   },
   "outputs": [],
   "source": [
    "num = []\n",
    "for i in range(X_tr.shape[1]):\n",
    "    A, B = np.unique(np.asarray(X_tr[:, i]), return_counts=True)\n",
    "    tmp_log= np.log(B + 1)\n",
    "    t_2 = np.append(tmp_log, np.zeros(max_len - tmp_log.size))\n",
    "    num += [t_2]\n",
    "num = np.array(num)"
   ]
  },
  {
   "cell_type": "code",
   "execution_count": 11,
   "metadata": {
    "collapsed": true
   },
   "outputs": [],
   "source": [
    "def sec_r_2(x, y):\n",
    "    return np.sum((x!=y) * np.diag(num[:, (x).astype(int)])* np.diag(num[:, (y).astype(int)]))\n",
    "    "
   ]
  },
  {
   "cell_type": "code",
   "execution_count": 12,
   "metadata": {
    "collapsed": true
   },
   "outputs": [],
   "source": [
    "cl_3 = neighbors.KNeighborsClassifier(n_neighbors=10, weights='uniform', algorithm='brute',\n",
    "                                      leaf_size=30, metric= sec_r_2, n_jobs=1)"
   ]
  },
  {
   "cell_type": "code",
   "execution_count": 13,
   "metadata": {
    "collapsed": false
   },
   "outputs": [
    {
     "data": {
      "text/plain": [
       "KNeighborsClassifier(algorithm='brute', leaf_size=30,\n",
       "           metric=<function sec_r_2 at 0x0000005892DF3A60>,\n",
       "           metric_params=None, n_jobs=1, n_neighbors=10, p=2,\n",
       "           weights='uniform')"
      ]
     },
     "execution_count": 13,
     "metadata": {},
     "output_type": "execute_result"
    }
   ],
   "source": [
    "cl_3.fit(X_trm, y_tr)"
   ]
  },
  {
   "cell_type": "code",
   "execution_count": 15,
   "metadata": {
    "collapsed": false
   },
   "outputs": [
    {
     "name": "stdout",
     "output_type": "stream",
     "text": [
      "Wall time: 2h 8min 51s\n"
     ]
    }
   ],
   "source": [
    "%time y_score_3 = cl_3.predict_proba(x_m)"
   ]
  },
  {
   "cell_type": "code",
   "execution_count": 16,
   "metadata": {
    "collapsed": false,
    "scrolled": true
   },
   "outputs": [
    {
     "name": "stdout",
     "output_type": "stream",
     "text": [
      "Для третей метрики ROC-AUC равен 0.821046030503\n"
     ]
    }
   ],
   "source": [
    "print(\"Для третей метрики ROC-AUC равен\",\n",
    "      metrics.roc_auc_score(y, y_score_3[:,1]))"
   ]
  },
  {
   "cell_type": "markdown",
   "metadata": {},
   "source": [
    "Лучшей метрикой оказалась метрика \"Сглаженный индикатор совпадения\""
   ]
  },
  {
   "cell_type": "markdown",
   "metadata": {},
   "source": [
    "#### 2 (бонус). Подберите лучшее (на тестовой выборке) число соседей $k$ для каждой из функций расстояния. Какое наилучшее качество удалось получить?\n",
    "\n",
    "Для подбора можно использовать любые средства из sklearn."
   ]
  },
  {
   "cell_type": "code",
   "execution_count": null,
   "metadata": {
    "collapsed": true
   },
   "outputs": [],
   "source": []
  },
  {
   "cell_type": "markdown",
   "metadata": {},
   "source": [
    "#### 3. Реализуйте счетчики (http://blogs.technet.com/b/machinelearning/archive/2015/02/17/big-learning-made-easy-with-counts.aspx), которые заменят категориальные признаки на вещественные.\n",
    "\n",
    "А именно, каждый категориальный признак нужно заменить на три: \n",
    "1. Число `counts` объектов в обучающей выборке с таким же значением признака.\n",
    "2. Число `successes` объектов первого класса ($y = 1$) в обучающей выборке с таким же значением признака.\n",
    "3. Сглаженное отношение двух предыдущих величин: (`successes` + 1) / (`counts` + 2).\n",
    "\n",
    "Поскольку признаки, содержащие информацию о целевой переменной, могут привести к переобучению, может оказаться полезным сделать *фолдинг*: разбить обучающую выборку на $n$ частей, и для $i$-й части считать `counts` и `successes` по всем остальным частям. Для тестовой выборки используются счетчики, посчитанные по всей обучающей выборке. Реализуйте и такой вариант. Можно использовать $n = 3$.\n",
    "\n",
    "#### Посчитайте на тесте AUC-ROC метода $k$ ближайших соседей с евклидовой метрикой для выборки, где категориальные признаки заменены на счетчики. Сравните по AUC-ROC два варианта формирования выборки — с фолдингом и без. Не забудьте подобрать наилучшее число соседей $k$."
   ]
  },
  {
   "cell_type": "markdown",
   "metadata": {},
   "source": [
    "#### Реализация без фолдинга."
   ]
  },
  {
   "cell_type": "code",
   "execution_count": 17,
   "metadata": {
    "collapsed": false
   },
   "outputs": [],
   "source": [
    "suc_counts = []\n",
    "suc_c_2 = []\n",
    "for i in range(X_trm.shape[1]):\n",
    "    A, B = np.unique(X_trm[:, i], return_counts=True)\n",
    "    B = np.append(B, np.zeros(1))\n",
    "    suc_counts += [B[X_trm[:,i]]]\n",
    "    suc_c_2 += [B[x_m[:,i]]]\n",
    "    C = np.zeros(A.shape[0] + 1)\n",
    "    for j in range(X_trm[:, i].shape[0]):\n",
    "        if y_tr[j] == 1:\n",
    "            C[X_trm[j,i]] += 1\n",
    "    suc_counts += [C[X_trm[:,i]]]\n",
    "    suc_c_2 += [C[x_m[:,i]]]\n",
    "    suc_counts += [(C[X_trm[:,i]] + 1) / (B[X_trm[:,i]] + 2)]\n",
    "    suc_c_2 += [(C[x_m[:,i]] + 1) / (B[x_m[:,i]] + 2)]\n",
    "x_c = np.array(suc_c_2).T\n",
    "X_trc = np.array(suc_counts).T"
   ]
  },
  {
   "cell_type": "code",
   "execution_count": 18,
   "metadata": {
    "collapsed": false
   },
   "outputs": [],
   "source": [
    "cl_4 = neighbors.KNeighborsClassifier(n_neighbors=10, weights='uniform', algorithm='kd_tree',\n",
    "                                      leaf_size=30, metric= 'euclidean', n_jobs=1)"
   ]
  },
  {
   "cell_type": "code",
   "execution_count": 19,
   "metadata": {
    "collapsed": false
   },
   "outputs": [
    {
     "data": {
      "text/plain": [
       "KNeighborsClassifier(algorithm='kd_tree', leaf_size=30, metric='euclidean',\n",
       "           metric_params=None, n_jobs=1, n_neighbors=10, p=2,\n",
       "           weights='uniform')"
      ]
     },
     "execution_count": 19,
     "metadata": {},
     "output_type": "execute_result"
    }
   ],
   "source": [
    "cl_4.fit(X_trc, y_tr)"
   ]
  },
  {
   "cell_type": "code",
   "execution_count": 20,
   "metadata": {
    "collapsed": false,
    "scrolled": true
   },
   "outputs": [],
   "source": [
    "max_k = 0\n",
    "max_value = 0\n",
    "for i in range(20):\n",
    "    cl_4 = neighbors.KNeighborsClassifier(n_neighbors=(i + 1), weights='uniform', algorithm='kd_tree',\n",
    "                                      leaf_size=30, metric= 'euclidean', n_jobs=1)\n",
    "    cl_4.fit(X_trc, y_tr)\n",
    "    y_score_4 = cl_4.predict_proba(x_c)\n",
    "    tmp = metrics.roc_auc_score(y, y_score_4[:,1])\n",
    "    if(max_value < tmp):\n",
    "        max_value = tmp\n",
    "        max_k = i"
   ]
  },
  {
   "cell_type": "code",
   "execution_count": 22,
   "metadata": {
    "collapsed": false
   },
   "outputs": [
    {
     "name": "stdout",
     "output_type": "stream",
     "text": [
      "Наилучшее значение без фолдинга достигается при количестве соседей: 13 со значением AUC-ROC равным 0.796091066126\n"
     ]
    }
   ],
   "source": [
    "print('Наилучшее значение без фолдинга достигается при количестве соседей:', max_k, 'со значением AUC-ROC равным', max_value)"
   ]
  },
  {
   "cell_type": "markdown",
   "metadata": {
    "collapsed": true
   },
   "source": [
    "##### Реализация с фолдингом\n",
    "\n",
    "\n",
    "\n",
    "Подсчет счетчиков на тестовой выборке:"
   ]
  },
  {
   "cell_type": "code",
   "execution_count": 24,
   "metadata": {
    "collapsed": false
   },
   "outputs": [],
   "source": [
    "fold_cnt = []\n",
    "for i in range(X_trm.shape[1]):\n",
    "    A, B = np.unique(X_trm[:, i], return_counts=True)\n",
    "    B = np.append(B, np.zeros(1))\n",
    "    fold_cnt += [B[x_m[:,i]]]\n",
    "    C = np.zeros(A.shape[0] + 1)\n",
    "    for j in range(X_trm[:, i].shape[0]):\n",
    "        if y_tr[j] == 1:\n",
    "            C[X_trm[j,i]] += 1\n",
    "    fold_cnt += [C[x_m[:,i]]]\n",
    "    fold_cnt += [(C[x_m[:,i]] + 1) / (B[x_m[:,i]] + 2)]\n",
    "x_fc = np.array(fold_cnt).T"
   ]
  },
  {
   "cell_type": "markdown",
   "metadata": {
    "collapsed": true
   },
   "source": [
    "Считаем счетчики на train"
   ]
  },
  {
   "cell_type": "code",
   "execution_count": 81,
   "metadata": {
    "collapsed": false
   },
   "outputs": [],
   "source": [
    "n_folds = 3\n",
    "suc_fc = []\n",
    "\n",
    "for i in range(X_trm.shape[1]):\n",
    "    A, B = np.unique(X_trm[:, i], return_counts=True)\n",
    "    cnt_v = np.zeros(X_trm.shape[0])\n",
    "    scc_v = cnt_v.copy()\n",
    "    diff_v = cnt_v.copy()\n",
    "    for j in range(n_folds):\n",
    "        pos1 = (X_trm.shape[0] * j)// n_folds\n",
    "        pos2 = (X_trm.shape[0] * (j + 1))// n_folds\n",
    "        cnt_tmp = np.zeros(B.size + 1)\n",
    "        scc_tmp = np.zeros(B.size + 1)\n",
    "        for k in range(pos1):\n",
    "            cnt_tmp[X_trm[k, i]] += 1\n",
    "            if y_tr[k] == 1:\n",
    "                scc_tmp[X_trm[k, i]] += 1\n",
    "        for k in range(pos2, X_trm.shape[0]):\n",
    "            cnt_tmp[X_trm[k, i]] += 1\n",
    "            if y_tr[k] == 1:\n",
    "                scc_tmp[X_trm[k, i]] += 1\n",
    "        for k in range(pos1, pos2):\n",
    "            cnt_v[k] = cnt_tmp[X_trm[k, i]]\n",
    "            scc_v[k] = scc_tmp[X_trm[k, i]]\n",
    "            diff_v[k] = (scc_tmp[X_trm[k,i]] + 1)/ (cnt_tmp[X_trm[k, i]] + 2)\n",
    "    cnt_v = cnt_v * n_folds / (n_folds - 1) \n",
    "    scc_v = scc_v * n_folds / (n_folds - 1)\n",
    "    suc_fc += [cnt_v, scc_v, diff_v]\n",
    "\n",
    "X_trfc = np.array(suc_fc).T"
   ]
  },
  {
   "cell_type": "code",
   "execution_count": 82,
   "metadata": {
    "collapsed": false
   },
   "outputs": [
    {
     "data": {
      "text/plain": [
       "KNeighborsClassifier(algorithm='kd_tree', leaf_size=30, metric='euclidean',\n",
       "           metric_params=None, n_jobs=1, n_neighbors=7, p=2,\n",
       "           weights='uniform')"
      ]
     },
     "execution_count": 82,
     "metadata": {},
     "output_type": "execute_result"
    }
   ],
   "source": [
    "cl_5 = neighbors.KNeighborsClassifier(n_neighbors=7, weights='uniform', algorithm='kd_tree',\n",
    "                                      leaf_size=30, metric= 'euclidean', n_jobs=1)\n",
    "cl_5.fit(X_trfc, y_tr)"
   ]
  },
  {
   "cell_type": "code",
   "execution_count": 85,
   "metadata": {
    "collapsed": false
   },
   "outputs": [],
   "source": [
    "max_k = 0\n",
    "max_value = 0\n",
    "for i in range(50):\n",
    "    cl_5 = neighbors.KNeighborsClassifier(n_neighbors=(i + 1), weights='uniform', algorithm='kd_tree',\n",
    "                                      leaf_size=30, metric= 'euclidean', n_jobs=1)\n",
    "    cl_5.fit(X_trfc, y_tr)\n",
    "    y_score_5 = cl_5.predict_proba(x_fc)\n",
    "    tmp = metrics.roc_auc_score(y, y_score_5[:,1])\n",
    "    if(max_value < tmp):\n",
    "        max_value = tmp\n",
    "        max_k = i"
   ]
  },
  {
   "cell_type": "code",
   "execution_count": 86,
   "metadata": {
    "collapsed": false
   },
   "outputs": [
    {
     "name": "stdout",
     "output_type": "stream",
     "text": [
      "Наилучшее значение без фолдинга достигается при количестве соседей: 19 со значением AUC-ROC равным 0.77653507495\n"
     ]
    }
   ],
   "source": [
    "print('Наилучшее значение без фолдинга достигается при количестве соседей:', (max_k + 1), 'со значением AUC-ROC равным', max_value)"
   ]
  },
  {
   "cell_type": "markdown",
   "metadata": {},
   "source": [
    "#### 4. Добавьте в исходную выборку парные признаки — то есть для каждой пары $(f_i, f_j)$, $i < j$ исходных категориальных признаков добавьте новый категориальный признак $f_{ij}$, значение которого является конкатенацией значений $f_i$ и $f_j$ (желательно через какой-нибудь специальный символ во избежание коллизий). Посчитайте счетчики для этой выборки, найдите качество метода $k$ ближайших соседей с наилучшим $k$ (с фолдингом и без)."
   ]
  },
  {
   "cell_type": "markdown",
   "metadata": {},
   "source": [
    "Добавление парных признаков"
   ]
  },
  {
   "cell_type": "code",
   "execution_count": 28,
   "metadata": {
    "collapsed": true
   },
   "outputs": [],
   "source": [
    "X_str = X_trm.astype(str)\n",
    "x_str = x_m.astype(str)"
   ]
  },
  {
   "cell_type": "code",
   "execution_count": 63,
   "metadata": {
    "collapsed": false
   },
   "outputs": [],
   "source": [
    "Z = []\n",
    "D = []\n",
    "for i in range(X_str.shape[1]):\n",
    "    Z += [X_str[:,i]]\n",
    "    for j in range(i + 1, X_str.shape[1]):\n",
    "        C = X_str[:,i].copy()\n",
    "        for k in range(C.shape[0]):\n",
    "            C[k] = C[k] + '&' + X_str[k, j]\n",
    "        Z += [C]\n",
    "        \n",
    "for i in range(x_str.shape[1]):\n",
    "    D += [x_str[:,i]]\n",
    "    for j in range(i + 1, x_str.shape[1]):\n",
    "        C = x_str[:,i].copy()\n",
    "        for k in range(C.shape[0]):\n",
    "            C[k] = C[k] + '&' + x_str[k, j]\n",
    "        D += [C]"
   ]
  },
  {
   "cell_type": "code",
   "execution_count": 69,
   "metadata": {
    "collapsed": true
   },
   "outputs": [],
   "source": [
    "X_new = np.array(Z).T\n",
    "x_new = np.array(D).T"
   ]
  },
  {
   "cell_type": "code",
   "execution_count": 95,
   "metadata": {
    "collapsed": false,
    "scrolled": false
   },
   "outputs": [],
   "source": [
    "data_new = np.array(list(np.array(Z).T) + list((np.array(D).T)))"
   ]
  },
  {
   "cell_type": "markdown",
   "metadata": {},
   "source": [
    "#### Без фолдинга"
   ]
  },
  {
   "cell_type": "code",
   "execution_count": 124,
   "metadata": {
    "collapsed": false
   },
   "outputs": [],
   "source": [
    "max_len = 0\n",
    "for i in range(data_new.shape[1]):\n",
    "    if(np.unique(data_new[:,i]).shape[0] > max_len):\n",
    "        max_len = np.unique(data_new[:,i]).shape[0]\n",
    "X_new_m = X_new.copy()\n",
    "x_new_m = x_new.copy()\n",
    "for i in range(X_new.shape[1]):\n",
    "    A, B = np.unique(np.asarray(X_new[:, i]), return_counts=True)\n",
    "    tmp = {}\n",
    "    for j in range(A.size):\n",
    "        tmp[A[j]] = (j, B[j])\n",
    "    for l in range(X_new_m[:, i].size):\n",
    "        X_new_m[l, i] = tmp[X_new_m[l,i]][0]\n",
    "    for l in range(x_new_m[:, i].size):\n",
    "        if (x_new_m[l, i] in tmp):\n",
    "            x_new_m[l, i] = tmp[x_new_m[l,i]][0]\n",
    "        else:\n",
    "            x_new_m[l, i] = A.size\n",
    "X_new_m = X_new_m.astype(int)\n",
    "x_new_m = x_new_m.astype(int)"
   ]
  },
  {
   "cell_type": "code",
   "execution_count": 127,
   "metadata": {
    "collapsed": false
   },
   "outputs": [],
   "source": [
    "suc_counts = []\n",
    "suc_c_2 = []\n",
    "for i in range(X_new_m.shape[1]):\n",
    "    A, B = np.unique(X_new_m[:, i], return_counts=True)\n",
    "    B = np.append(B, np.zeros(1))\n",
    "    suc_counts += [B[X_new_m[:,i]]]\n",
    "    suc_c_2 += [B[x_new_m[:,i]]]\n",
    "    C = np.zeros(A.shape[0] + 1)\n",
    "    for j in range(X_new_m[:, i].shape[0]):\n",
    "        if y_tr[j] == 1:\n",
    "            C[X_new_m[j,i]] += 1\n",
    "    suc_counts += [C[X_new_m[:,i]]]\n",
    "    suc_c_2 += [C[x_new_m[:,i]]]\n",
    "    suc_counts += [(C[X_new_m[:,i]] + 1) / (B[X_new_m[:,i]] + 2)]\n",
    "    suc_c_2 += [(C[x_new_m[:,i]] + 1) / (B[x_new_m[:,i]] + 2)]\n",
    "x_nc = np.array(suc_c_2).T\n",
    "X_ntrc = np.array(suc_counts).T"
   ]
  },
  {
   "cell_type": "code",
   "execution_count": 134,
   "metadata": {
    "collapsed": false
   },
   "outputs": [],
   "source": [
    "max_k = 0\n",
    "max_value = 0\n",
    "for i in range(20):\n",
    "    cl_p = neighbors.KNeighborsClassifier(n_neighbors=(i + 1), weights='uniform', algorithm='kd_tree',\n",
    "                                      leaf_size=30, metric= 'euclidean', n_jobs=1)\n",
    "    cl_p.fit(X_ntrc, y_tr)\n",
    "    y_p = cl_p.predict_proba(x_nc)\n",
    "    tmp = metrics.roc_auc_score(y, y_p[:,1])\n",
    "    if(max_value < tmp):\n",
    "        max_value = tmp\n",
    "        max_k = i"
   ]
  },
  {
   "cell_type": "code",
   "execution_count": 136,
   "metadata": {
    "collapsed": false
   },
   "outputs": [
    {
     "name": "stdout",
     "output_type": "stream",
     "text": [
      "Наилучшее значение без фолдинга достигается при количестве соседей: 8 со значением AUC-ROC равным 0.801859076241\n"
     ]
    }
   ],
   "source": [
    "print('Наилучшее значение без фолдинга достигается при количестве соседей:',\n",
    "      (max_k + 1), \n",
    "      'со значением AUC-ROC равным', \n",
    "      max_value)"
   ]
  },
  {
   "cell_type": "markdown",
   "metadata": {},
   "source": [
    "#### С фолдиногом"
   ]
  },
  {
   "cell_type": "code",
   "execution_count": 137,
   "metadata": {
    "collapsed": true
   },
   "outputs": [],
   "source": [
    "fold_cnt = []\n",
    "for i in range(X_new_m.shape[1]):\n",
    "    A, B = np.unique(X_new_m[:, i], return_counts=True)\n",
    "    B = np.append(B, np.zeros(1))\n",
    "    fold_cnt += [B[x_new_m[:,i]]]\n",
    "    C = np.zeros(A.shape[0] + 1)\n",
    "    for j in range(X_new_m[:, i].shape[0]):\n",
    "        if y_tr[j] == 1:\n",
    "            C[X_new_m[j,i]] += 1\n",
    "    fold_cnt += [C[x_new_m[:,i]]]\n",
    "    fold_cnt += [(C[x_new_m[:,i]] + 1) / (B[x_new_m[:,i]] + 2)]\n",
    "x_2 = np.array(fold_cnt).T"
   ]
  },
  {
   "cell_type": "code",
   "execution_count": 138,
   "metadata": {
    "collapsed": true
   },
   "outputs": [],
   "source": [
    "n_folds = 3\n",
    "suc_fc = []\n",
    "\n",
    "for i in range(X_new_m.shape[1]):\n",
    "    A, B = np.unique(X_new_m[:, i], return_counts=True)\n",
    "    cnt_v = np.zeros(X_new_m.shape[0])\n",
    "    scc_v = cnt_v.copy()\n",
    "    diff_v = cnt_v.copy()\n",
    "    for j in range(n_folds):\n",
    "        pos1 = (X_new_m.shape[0] * j)// n_folds\n",
    "        pos2 = (X_new_m.shape[0] * (j + 1))// n_folds\n",
    "        cnt_tmp = np.zeros(B.size + 1)\n",
    "        scc_tmp = np.zeros(B.size + 1)\n",
    "        for k in range(pos1):\n",
    "            cnt_tmp[X_new_m[k, i]] += 1\n",
    "            if y_tr[k] == 1:\n",
    "                scc_tmp[X_new_m[k, i]] += 1\n",
    "        for k in range(pos2, X_new_m.shape[0]):\n",
    "            cnt_tmp[X_new_m[k, i]] += 1\n",
    "            if y_tr[k] == 1:\n",
    "                scc_tmp[X_new_m[k, i]] += 1\n",
    "        for k in range(pos1, pos2):\n",
    "            cnt_v[k] = cnt_tmp[X_new_m[k, i]]\n",
    "            scc_v[k] = scc_tmp[X_new_m[k, i]]\n",
    "            diff_v[k] = (scc_tmp[X_new_m[k,i]] + 1)/ (cnt_tmp[X_new_m[k, i]] + 2)\n",
    "    cnt_v = cnt_v * n_folds / (n_folds - 1) \n",
    "    scc_v = scc_v * n_folds / (n_folds - 1)\n",
    "    suc_fc += [cnt_v, scc_v, diff_v]\n",
    "\n",
    "X_2 = np.array(suc_fc).T"
   ]
  },
  {
   "cell_type": "code",
   "execution_count": 139,
   "metadata": {
    "collapsed": true
   },
   "outputs": [],
   "source": [
    "max_k = 0\n",
    "max_value = 0\n",
    "for i in range(20):\n",
    "    cl_p2 = neighbors.KNeighborsClassifier(n_neighbors=(i + 1), weights='uniform', algorithm='kd_tree',\n",
    "                                      leaf_size=30, metric= 'euclidean', n_jobs=1)\n",
    "    cl_p2.fit(X_2, y_tr)\n",
    "    y_p2 = cl_p2.predict_proba(x_2)\n",
    "    tmp = metrics.roc_auc_score(y, y_p2[:,1])\n",
    "    if(max_value < tmp):\n",
    "        max_value = tmp\n",
    "        max_k = i"
   ]
  },
  {
   "cell_type": "code",
   "execution_count": 140,
   "metadata": {
    "collapsed": false
   },
   "outputs": [
    {
     "name": "stdout",
     "output_type": "stream",
     "text": [
      "Наилучшее значение c фолдингом достигается при количестве соседей: 18 со значением AUC-ROC равным 0.790223316304\n"
     ]
    }
   ],
   "source": [
    "print('Наилучшее значение c фолдингом достигается при количестве соседей:',\n",
    "      (max_k + 1), \n",
    "      'со значением AUC-ROC равным', \n",
    "      max_value)"
   ]
  },
  {
   "cell_type": "markdown",
   "metadata": {},
   "source": [
    "## Часть 3: Решающие деревья и леса"
   ]
  },
  {
   "cell_type": "markdown",
   "metadata": {},
   "source": [
    "#### 1. Возьмите из предыдущей части выборку с парными признаками, преобразованную с помощью счетчиков без фолдинга. Настройте решающее дерево, подобрав оптимальные значения параметров `max_depth` и `min_samples_leaf`. Какой наилучший AUC-ROC на контроле удалось получить?"
   ]
  },
  {
   "cell_type": "code",
   "execution_count": 142,
   "metadata": {
    "collapsed": true
   },
   "outputs": [],
   "source": [
    "from sklearn.tree import DecisionTreeClassifier"
   ]
  },
  {
   "cell_type": "code",
   "execution_count": 141,
   "metadata": {
    "collapsed": true
   },
   "outputs": [],
   "source": [
    "X_tree = X_ntrc\n",
    "x_tree = x_nc"
   ]
  },
  {
   "cell_type": "code",
   "execution_count": 230,
   "metadata": {
    "collapsed": false
   },
   "outputs": [],
   "source": [
    "max_answ = 0\n",
    "d = 0\n",
    "l = 0\n",
    "dep = [1, 10, 20, 30, 50, 100, 1000]\n",
    "leaf = [1, 10, 20, 30, 50, 100, 1000]\n",
    "for i in dep:\n",
    "    for j in leaf:\n",
    "        cl_tree = DecisionTreeClassifier(max_depth = i, min_samples_leaf=j)\n",
    "        cl_tree.fit(X_tree, y_tr)\n",
    "        tmp = cl_tree.predict_proba(x_tree)\n",
    "        answ = metrics.roc_auc_score(y, tmp[:,1])\n",
    "        if(answ > max_answ):\n",
    "            max_answ = answ\n",
    "            d = i\n",
    "            l = j"
   ]
  },
  {
   "cell_type": "code",
   "execution_count": 231,
   "metadata": {
    "collapsed": false
   },
   "outputs": [
    {
     "name": "stdout",
     "output_type": "stream",
     "text": [
      "Итоговое качество на тестовой выборке:\n",
      "AUC-ROC: 0.66001250071 \n",
      "max_depth = 1000 \n",
      "min_samples_leaf = 10\n"
     ]
    }
   ],
   "source": [
    "print('Итоговое качество на тестовой выборке:\\nAUC-ROC:', max_answ, '\\nmax_depth =', d, '\\nmin_samples_leaf =',l)"
   ]
  },
  {
   "cell_type": "markdown",
   "metadata": {},
   "source": [
    "#### 2. Настройте случайный лес, подобрав такое число деревьев `n_estimators`, при котором ошибка выходит на асимптоту. Какое качество на тестовой выборке он дает?"
   ]
  },
  {
   "cell_type": "code",
   "execution_count": 162,
   "metadata": {
    "collapsed": true
   },
   "outputs": [],
   "source": [
    "from sklearn.ensemble import RandomForestClassifier"
   ]
  },
  {
   "cell_type": "code",
   "execution_count": 212,
   "metadata": {
    "collapsed": false
   },
   "outputs": [
    {
     "name": "stdout",
     "output_type": "stream",
     "text": [
      "1\n",
      "10\n",
      "20\n",
      "30\n",
      "50\n",
      "100\n",
      "500\n",
      "1000\n"
     ]
    }
   ],
   "source": [
    "max_answ = 0\n",
    "d = 0\n",
    "l = 0\n",
    "e = 0\n",
    "dep = [1, 10, 20, 30, 50, 100, 500, 1000]\n",
    "leaf = [1, 10, 20, 30, 50, 100, 500, 1000]\n",
    "est = [5, 10, 30, 50]\n",
    "for i in dep:\n",
    "    print (i)\n",
    "    for j in leaf:\n",
    "        for k in  est:\n",
    "            cl_forest = RandomForestClassifier(n_estimators=k, max_depth = i, min_samples_leaf=j)\n",
    "            cl_forest.fit(X_tree, y_tr)\n",
    "            fg = cl_forest.predict_proba(x_tree)\n",
    "            answ = metrics.roc_auc_score(y, fg[:,1])\n",
    "            if(answ > max_answ):\n",
    "                max_answ = answl\n",
    "                d = i\n",
    "                l = j\n",
    "                e = k"
   ]
  },
  {
   "cell_type": "code",
   "execution_count": 220,
   "metadata": {
    "collapsed": false,
    "scrolled": true
   },
   "outputs": [
    {
     "name": "stdout",
     "output_type": "stream",
     "text": [
      "AUC-ROC: 0.826043259357 max_depth = 20 min_samples_leaf = 1000 n_estimators =  30\n"
     ]
    }
   ],
   "source": [
    "print('AUC-ROC:', max_answ, 'max_depth =', d, 'min_samples_leaf =', l, 'n_estimators = ', e)"
   ]
  },
  {
   "cell_type": "markdown",
   "metadata": {},
   "source": [
    "На лучшем варианте поиск другого числа n_estimators"
   ]
  },
  {
   "cell_type": "code",
   "execution_count": 221,
   "metadata": {
    "collapsed": false
   },
   "outputs": [],
   "source": [
    "for i in [30, 50,100, 200, 250, 300]:\n",
    "    cl_forest = RandomForestClassifier(n_estimators=i, max_depth=d, min_samples_leaf=l)\n",
    "    cl_forest.fit(X_tree, y_tr)\n",
    "    fg = cl_forest.predict_proba(x_tree)\n",
    "    answ = metrics.roc_auc_score(y, fg[:,1])\n",
    "    if(answ > max_answ):\n",
    "        max_answ = answ\n",
    "        e = k"
   ]
  },
  {
   "cell_type": "code",
   "execution_count": 229,
   "metadata": {
    "collapsed": false,
    "scrolled": true
   },
   "outputs": [
    {
     "name": "stdout",
     "output_type": "stream",
     "text": [
      "Итоговое качество на тестовой выборке:\n",
      "AUC-ROC: 0.826043259357 \n",
      "max_depth = 20 \n",
      "min_samples_leaf = 1000 \n",
      "n_estimators =  30\n"
     ]
    }
   ],
   "source": [
    "print('Итоговое качество на тестовой выборке:\\nAUC-ROC:', max_answ, '\\nmax_depth =', d, '\\nmin_samples_leaf =',\n",
    "      l, '\\nn_estimators = ', e)"
   ]
  },
  {
   "cell_type": "markdown",
   "metadata": {},
   "source": [
    "#### 3. Возьмите выборку с парными признаками, для которой счетчики посчитаны с фолдингом. Обучите на ней случайный лес, подобрав число деревьев. Какое качество на тестовой выборке он дает? Чем вы можете объяснить изменение результата по сравнению с предыдущим пунктом?"
   ]
  },
  {
   "cell_type": "code",
   "execution_count": 232,
   "metadata": {
    "collapsed": true
   },
   "outputs": [],
   "source": [
    "X_f = X_2\n",
    "x_f = x_2"
   ]
  },
  {
   "cell_type": "code",
   "execution_count": 234,
   "metadata": {
    "collapsed": false
   },
   "outputs": [
    {
     "name": "stdout",
     "output_type": "stream",
     "text": [
      "1\n",
      "10\n",
      "20\n",
      "30\n",
      "50\n",
      "100\n",
      "500\n",
      "1000\n"
     ]
    }
   ],
   "source": [
    "max_answ = 0\n",
    "d = 0\n",
    "l = 0\n",
    "e = 0\n",
    "dep = [1, 10, 20, 30, 50, 100, 500, 1000]\n",
    "leaf = [1, 10, 20, 30, 50, 100, 500, 1000]\n",
    "est = [5, 10, 30, 50]\n",
    "for i in dep:\n",
    "    print (i)\n",
    "    for j in leaf:\n",
    "        for k in  est:\n",
    "            cl_forest = RandomForestClassifier(n_estimators=k, max_depth = i, min_samples_leaf=j)\n",
    "            cl_forest.fit(X_f, y_tr)\n",
    "            fg = cl_forest.predict_proba(x_f)\n",
    "            answ = metrics.roc_auc_score(y, fg[:,1])\n",
    "            if(answ > max_answ):\n",
    "                max_answ = answ\n",
    "                d = i\n",
    "                l = j\n",
    "                e = k"
   ]
  },
  {
   "cell_type": "code",
   "execution_count": 235,
   "metadata": {
    "collapsed": false
   },
   "outputs": [
    {
     "name": "stdout",
     "output_type": "stream",
     "text": [
      "AUC-ROC: 0.866261184325 max_depth = 50 min_samples_leaf = 20 n_estimators =  30\n"
     ]
    }
   ],
   "source": [
    "print('AUC-ROC:', max_answ, 'max_depth =', d, 'min_samples_leaf =', l, 'n_estimators = ', e)"
   ]
  },
  {
   "cell_type": "code",
   "execution_count": 236,
   "metadata": {
    "collapsed": true
   },
   "outputs": [],
   "source": [
    "for i in [30, 50, 100, 200, 250, 300]:\n",
    "    cl_forest = RandomForestClassifier(n_estimators=i, max_depth=d, min_samples_leaf=l)\n",
    "    cl_forest.fit(X_tree, y_tr)\n",
    "    fg = cl_forest.predict_proba(x_tree)\n",
    "    answ = metrics.roc_auc_score(y, fg[:,1])\n",
    "    if(answ > max_answ):\n",
    "        max_answ = answ\n",
    "        e = k"
   ]
  },
  {
   "cell_type": "code",
   "execution_count": 246,
   "metadata": {
    "collapsed": false
   },
   "outputs": [
    {
     "name": "stdout",
     "output_type": "stream",
     "text": [
      "Итоговое качество на тестовой выборке:\n",
      "AUC-ROC: 0.866261184325 \n",
      "max_depth = 50 \n",
      "min_samples_leaf = 20 \n",
      "n_estimators =  30\n"
     ]
    }
   ],
   "source": [
    "print('Итоговое качество на тестовой выборке:\\nAUC-ROC:', max_answ, '\\nmax_depth =', d, '\\nmin_samples_leaf =',\n",
    "      l, '\\nn_estimators = ', e)"
   ]
  },
  {
   "cell_type": "markdown",
   "metadata": {},
   "source": [
    "Здесь вы можете поделиться своими мыслями о задании."
   ]
  },
  {
   "cell_type": "markdown",
   "metadata": {
    "collapsed": true
   },
   "source": [
    "Задание интересное, как для человека, который впервые столкнулся с анализом данных.\n"
   ]
  },
  {
   "cell_type": "markdown",
   "metadata": {},
   "source": [
    "А здесь вставьте смешную картинку."
   ]
  },
  {
   "cell_type": "markdown",
   "metadata": {
    "collapsed": true
   },
   "source": [
    "![Смешная(?) картинка](2.jpg)"
   ]
  },
  {
   "cell_type": "markdown",
   "metadata": {},
   "source": [
    "А здесь посоветуйте преподавателям хороший фильм или сериал."
   ]
  },
  {
   "cell_type": "markdown",
   "metadata": {
    "collapsed": true
   },
   "source": [
    "Из старых - Книжный магазин Блэка. \n",
    "Из новых - Проповедник."
   ]
  }
 ],
 "metadata": {
  "anaconda-cloud": {},
  "kernelspec": {
   "display_name": "Python [Root]",
   "language": "python",
   "name": "Python [Root]"
  },
  "language_info": {
   "codemirror_mode": {
    "name": "ipython",
    "version": 3
   },
   "file_extension": ".py",
   "mimetype": "text/x-python",
   "name": "python",
   "nbconvert_exporter": "python",
   "pygments_lexer": "ipython3",
   "version": "3.5.2"
  }
 },
 "nbformat": 4,
 "nbformat_minor": 0
}
