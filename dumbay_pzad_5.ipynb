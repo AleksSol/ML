{
 "cells": [
  {
   "cell_type": "markdown",
   "metadata": {},
   "source": [
    "# Совпадение максимумов – случайность или происки шпионов?"
   ]
  },
  {
   "cell_type": "markdown",
   "metadata": {},
   "source": [
    "#### Выполнил: Думбай А.Д., ВМК, гр. 517"
   ]
  },
  {
   "cell_type": "code",
   "execution_count": 1,
   "metadata": {},
   "outputs": [],
   "source": [
    "import numpy as np\n",
    "import matplotlib.pyplot as plt\n",
    "import seaborn as sns\n",
    "import pandas as pd\n",
    "import plotly.plotly as py\n",
    "import plotly.graph_objs as go\n",
    "from itertools import combinations\n",
    "import plotly.plotly as py\n",
    "import plotly.figure_factory as ff\n",
    "\n",
    "sns.set()\n",
    "%matplotlib inline"
   ]
  },
  {
   "cell_type": "markdown",
   "metadata": {},
   "source": [
    "<img src=\"1.PNG\">"
   ]
  },
  {
   "cell_type": "markdown",
   "metadata": {},
   "source": [
    "Рассмотрим эту картинку и зададимся вопросом - в сбалансированном слуае всегда ли совпадают точки максимума?"
   ]
  },
  {
   "cell_type": "markdown",
   "metadata": {},
   "source": [
    "Нас интересует две пары\n",
    "1. roc_auc_score и accuracy_score\n",
    "2. cohen_kappa_score и matthews_corrcoef\n",
    "\n",
    "А так же взаимоотношения оценок из разных пар."
   ]
  },
  {
   "cell_type": "markdown",
   "metadata": {},
   "source": [
    "Для начала рассмотрим идеальный случай - когда размеры выборок с положительным классом и с отрицательным в точноси совпадают. Обозначим \n",
    "$n - \\text{размер выборки}$.\n"
   ]
  },
  {
   "cell_type": "markdown",
   "metadata": {},
   "source": [
    "### 1. roc_auc_score и accuracy_score"
   ]
  },
  {
   "cell_type": "markdown",
   "metadata": {},
   "source": [
    "На семинаре было показано следующее выражение для AUC на бинаризованной выборке\n",
    "$$\\mathrm{AUC} =\\frac { 1 } { 2 } \\left( \\frac { \\mathrm { TN } } { \\mathrm { FP } + \\mathrm { TN } } + \\frac { \\mathrm { TP } } { \\mathrm { TP } + \\mathrm { FN } } \\right)$$\n",
    "В случае совпадающих размеров классов мы получим $ \\mathrm { TP } + \\mathrm { FN }  =\\mathrm { FP } + \\mathrm { TN }  = \\frac{n}{2}$. Тогда формула переписывается следующим образом:\n",
    "$$\\mathrm{AUC} =\\frac { 1 } { 2 } \\left( \\frac { 2\\mathrm {TN } } {n } + \\frac { 2\\mathrm { TP } } { n} \\right) = \\frac{\\mathrm{TP} + \\mathrm{TN}}{n} = acc$$"
   ]
  },
  {
   "cell_type": "markdown",
   "metadata": {},
   "source": [
    "В случае сбалансированных классов мы получаем полное совпадение данных оценок, что и проиллюстрировано на рисунке. \n",
    "\n",
    "* Данные функции для сбалансированных классов полностью совпадают, не только в максимуме. \n",
    "* Данные функции не зависят от распределений на классы, зависят только от того, совпадает ли число объектов положительного и отрицательного классов."
   ]
  },
  {
   "cell_type": "markdown",
   "metadata": {},
   "source": [
    "Исследуем, что будет происходить при разбалансировке. Положим $P = an, N = (1-a)n, n \\in (0,1)$, тогда \n",
    "\n",
    "$$\\mathrm{AUC} =\\frac { 1 } { 2 } \\left( \\frac { \\mathrm {TN } } {(1-a)n } + \\frac { \\mathrm { TP } } { an} \\right) = = acc \\frac {\\frac{\\mathrm {TN } } {(1-a) } + \\frac { \\mathrm { TP } } { a}}{2(\\mathrm{TP} + \\mathrm{TN})}$$"
   ]
  },
  {
   "cell_type": "markdown",
   "metadata": {},
   "source": [
    "Как можно понять отсюда, точность корректируется с помощью некоторой суммы точно угаданных объектов первого  класса и второго и теперь зависит как от $a$, так и от вида распределения."
   ]
  },
  {
   "cell_type": "markdown",
   "metadata": {},
   "source": [
    "### 2. cohen_kappa_score"
   ]
  },
  {
   "cell_type": "markdown",
   "metadata": {},
   "source": [
    "Рассмотрим cohen_kappa_score, обознаив его $r$. \n",
    "\n",
    "$$r = \\frac { p _ { \\text { observed } } - p _ { \\text { chance } } } { 1 - p _ { \\text { chance } } }$$\n",
    "\n",
    "где $$ p _ { \\text { observed }} = acc$$ \n",
    "\n",
    "$$p_{\\text{chance}} = \\frac {\\mathrm {TP} + \\mathrm {TN} } { n } \\frac { \\mathrm {TP }+ \\mathrm {FN}} { n } + \\frac { \\mathrm {FN } + \\mathrm {TN } } { n } \\frac { \\mathrm {FP} + \\mathrm {TN } } { n } = \\frac {\\mathrm {TP} + \\mathrm {FP} } { 2n } + \\frac { \\mathrm {FN } + \\mathrm {TN } } { 2n }  = \\frac{1}{2}$$\n",
    "\n",
    "Получаем \n",
    "$$r = \\frac{acc - \\frac{1}{2}}{\\frac{1}{2}} = 2acc - 1$$\n",
    "\n",
    "В случае равенства размеров классов мы получаем прямую зависимость $r = 2 acc - 1$, что напрямую связывает эту функцию с предыдущими и, очевидно, равенство точек максимума достигается. \n",
    "\n",
    "Как видно из формулы при незначительном дисбалансе формула меняется так же не очень сильно, балансируется сам $p_{\\text{chance}}$"
   ]
  },
  {
   "cell_type": "markdown",
   "metadata": {},
   "source": [
    "### 3. matthews_corrcoef"
   ]
  },
  {
   "cell_type": "markdown",
   "metadata": {},
   "source": [
    "$$\\mathrm { MCC } = \\frac { \\mathrm { TP } \\cdot \\mathrm { TN } - \\mathrm { FP } \\cdot \\mathrm { FN } } { \\sqrt { ( \\mathrm { TP } + \\mathrm { FP } ) ( \\mathrm { TP } + \\mathrm { FN } ) ( \\mathrm { TN } + \\mathrm { FP } ) ( \\mathrm { TN } + \\mathrm { FN } ) } }$$\n",
    "\n",
    "Воспользуемся равенством классов"
   ]
  },
  {
   "cell_type": "markdown",
   "metadata": {},
   "source": [
    "$$\\mathrm { MCC } = \\frac { \\mathrm { TP } \\cdot \\mathrm { TN } - \\mathrm { FP } \\cdot \\mathrm { FN } } { \\sqrt { ( \\mathrm { TP } + \\mathrm { FP } ) ( \\frac{n}{2}) ( \\frac{n}{2} ) ( \\mathrm { TN } + \\mathrm { FN } ) } } = \\frac { n(\\mathrm { TP } \\cdot \\mathrm { TN } - \\mathrm { FP } \\cdot \\mathrm { FN }) } { 2\\sqrt { ( \\mathrm { TP } + \\mathrm { FP } )  ( \\mathrm { TN } + \\mathrm { FN } ) } } $$\n"
   ]
  },
  {
   "cell_type": "markdown",
   "metadata": {},
   "source": [
    "Тут уже прямого выражения не наблюдается. Будем рассуждать следующим образом, при изменении порога от большего к меньшему на каждом элементе происходит следующее - мы либо делаем правильно предсказанный негативный объект неправильно предсказанным положительным ($\\mathrm { TN } \\to \\mathrm { FP }$), либо неправильно предсказанный негатиынфй - правильно предсказанным положительным($\\mathrm { FN } \\to \\mathrm { TP } $), следовательно функция $f(h) = \\mathrm { TN } + \\mathrm {FN} $ - монотонно возрастающая функция равная $N$ - числу объектов, причисленных нами к отрицательному классу.\n",
    "\n",
    "$$\\mathrm { MCC } = \\frac { 2(\\mathrm { TP } \\cdot \\mathrm { TN } - \\mathrm { FP } \\cdot \\mathrm { FN }) } { n\\sqrt { N\\cdot P} } = \\frac { 2(\\mathrm { TP } \\cdot \\mathrm { TN } - P\\cdot N + P\\cdot \\mathrm { TN} + N\\cdot\\mathrm { TP } - \\mathrm { TP }\\cdot\\mathrm { TN }) } { n\\sqrt { NP} }  =  \\frac { 2(P\\cdot \\mathrm { TN} + N\\cdot \\mathrm { TP } - P\\cdot N ) } { n\\sqrt { N\\cdot P} }  = \\frac{2}{n} \\left(\\mathrm { TN} \\sqrt{\\frac{P}{N}}  + \\mathrm {TP} \\sqrt{\\frac{N}{P}} - \\sqrt{P \\cdot N}\\right)$$"
   ]
  },
  {
   "cell_type": "markdown",
   "metadata": {},
   "source": [
    "Эта функция выглядит так, в случае \"симметричных\" относительно некого своего центра, и одинаковых распределений на овтетах алгоритма кажется, что эта формула максимизируется где-то \"посередине\" между оветами, разбивая множество на две равные части. \n",
    "\n",
    "Но если распределения не семмитрины? Можно построить контрпримеры. Видно, то сами TP и TN \"балансирутся\" дисбалансом предсказанных классов в некотором роде, но при этом этого может быть недостаточно."
   ]
  },
  {
   "cell_type": "markdown",
   "metadata": {},
   "source": [
    "Сгенерируем __неправильное__ распределение, где на концах будут чистые классы, а в середине - равномерная смесь. \n",
    "\n",
    "Пусть у нас ответы алгоритма идут по равномерной сетке от -1 до 1. Первые 100 имеют метку -1, вторые 100 - чередуясь 1 и -1, последние 100 - метку 1."
   ]
  },
  {
   "cell_type": "code",
   "execution_count": 2,
   "metadata": {},
   "outputs": [],
   "source": [
    "from sklearn.metrics import matthews_corrcoef"
   ]
  },
  {
   "cell_type": "code",
   "execution_count": 3,
   "metadata": {},
   "outputs": [],
   "source": [
    "y = np.hstack((-np.ones((100)), [-1, 1] * 100, np.ones((100))))\n",
    "h = list(range(1, y.shape[0] - 1))\n",
    "y_2 = -np.ones(y.shape)\n",
    "y_2[-1] = 1\n",
    "scores = []\n",
    "for hh in range(y.shape[0] - 1, 1, -1):\n",
    "    y_2[hh] = 1\n",
    "    scores.append(matthews_corrcoef(y, y_2))"
   ]
  },
  {
   "cell_type": "code",
   "execution_count": 4,
   "metadata": {},
   "outputs": [
    {
     "data": {
      "text/html": [
       "<iframe id=\"igraph\" scrolling=\"no\" style=\"border:none;\" seamless=\"seamless\" src=\"https://plot.ly/~aleksey_dumbay/11.embed\" height=\"525px\" width=\"100%\"></iframe>"
      ],
      "text/plain": [
       "<plotly.tools.PlotlyDisplay object>"
      ]
     },
     "execution_count": 4,
     "metadata": {},
     "output_type": "execute_result"
    }
   ],
   "source": [
    "random_x = np.linspace(-1, 1, len((scores)))\n",
    "random_y = scores\n",
    "\n",
    "trace = go.Scatter(\n",
    "    x = random_x,\n",
    "    y = random_y\n",
    ")\n",
    "\n",
    "layout = dict(title = 'MCC в зависимости от порога',\n",
    "               xaxis= dict(\n",
    "                    title= 'Порог',\n",
    "                    ticklen= 5,\n",
    "                    zeroline= False,\n",
    "                    gridwidth= 1,\n",
    "                    dtick=1,\n",
    "                ),\n",
    "                yaxis=dict(\n",
    "                    title= 'matthews_corrcoef',\n",
    "                    ticklen= 5,\n",
    "                    gridwidth= 1,\n",
    "                ),\n",
    "             )\n",
    "\n",
    "plot_data = [trace]\n",
    "\n",
    "py.iplot({'data': plot_data, 'layout':layout}, filename='basic-line')"
   ]
  },
  {
   "cell_type": "markdown",
   "metadata": {},
   "source": [
    "Коэффициент, как и ожидалось, симметричен, но максимум достигается отнюдь не в центре, а по краям, за счет более чистого предсказывания классов. При малом числе серединных-смешанных элементов центральная часть скорее вырождается в плато или в точку максимума."
   ]
  },
  {
   "cell_type": "markdown",
   "metadata": {},
   "source": [
    "Еще раз проиллюстрируем пример уже на случайной ситуации, где по краям будет столько же элемнтов, что и в середине"
   ]
  },
  {
   "cell_type": "markdown",
   "metadata": {},
   "source": [
    "Пусть положительный класс приходит из равномерного на [-1,1] распеделения(1000 элементов) по ответам алгоритмов и из нормального $N(2, 1)$(1000 элементов) по ответам, отрицательный класс - из равномерного на [0,1](1000 элементов) по ответам и $N(-2, 1)$(1000 элементов) по ответам. Получаем x - ответ алгоритма.\n"
   ]
  },
  {
   "cell_type": "code",
   "execution_count": 5,
   "metadata": {},
   "outputs": [],
   "source": [
    "x_p = np.random.randn(1000) + 2\n",
    "x_n = np.random.randn(1000) - 2\n",
    "x_p_u = np.random.rand(1000) * 2 - 1\n",
    "x_n_u = np.random.rand(1000) * 2 - 1"
   ]
  },
  {
   "cell_type": "code",
   "execution_count": 6,
   "metadata": {},
   "outputs": [],
   "source": [
    "x = np.hstack((x_p, x_p_u, x_n_u, x_n))\n",
    "y = np.ones((x.shape[0]//2))\n",
    "y = np.hstack((y, -y))"
   ]
  },
  {
   "cell_type": "markdown",
   "metadata": {},
   "source": [
    "Посмотрим на распределения."
   ]
  },
  {
   "cell_type": "code",
   "execution_count": 7,
   "metadata": {},
   "outputs": [
    {
     "data": {
      "text/html": [
       "<iframe id=\"igraph\" scrolling=\"no\" style=\"border:none;\" seamless=\"seamless\" src=\"https://plot.ly/~aleksey_dumbay/9.embed\" height=\"525px\" width=\"100%\"></iframe>"
      ],
      "text/plain": [
       "<plotly.tools.PlotlyDisplay object>"
      ]
     },
     "execution_count": 7,
     "metadata": {},
     "output_type": "execute_result"
    }
   ],
   "source": [
    "hist_data = [np.hstack((x_p, x_p_u)), np.hstack((x_n, x_n_u))]\n",
    "\n",
    "\n",
    "group_labels = ['Positive', 'Negative']\n",
    "\n",
    "fig = ff.create_distplot(hist_data, group_labels, bin_size=.2)\n",
    "\n",
    "py.iplot(fig, filename='Распределение')"
   ]
  },
  {
   "cell_type": "code",
   "execution_count": 8,
   "metadata": {},
   "outputs": [],
   "source": [
    "h = np.sort(x)\n",
    "scores = []\n",
    "for hh in h[1:-1]:\n",
    "    # перебираем тупо, в отличии от предыдущего эксперимента, потому что можем\n",
    "    y_2 = y.copy()\n",
    "    y_2[x >= hh] = 1\n",
    "    y_2[x < hh] = -1\n",
    "    scores.append(matthews_corrcoef(y, y_2))"
   ]
  },
  {
   "cell_type": "code",
   "execution_count": 9,
   "metadata": {},
   "outputs": [
    {
     "data": {
      "text/html": [
       "<iframe id=\"igraph\" scrolling=\"no\" style=\"border:none;\" seamless=\"seamless\" src=\"https://plot.ly/~aleksey_dumbay/13.embed\" height=\"525px\" width=\"100%\"></iframe>"
      ],
      "text/plain": [
       "<plotly.tools.PlotlyDisplay object>"
      ]
     },
     "execution_count": 9,
     "metadata": {},
     "output_type": "execute_result"
    }
   ],
   "source": [
    "trace = go.Scatter(\n",
    "    x = h,\n",
    "    y = scores\n",
    ")\n",
    "\n",
    "layout = dict(title = 'MCC в зависимости от порога',\n",
    "               xaxis= dict(\n",
    "                    title= 'Порог',\n",
    "                    ticklen= 5,\n",
    "                    zeroline= False,\n",
    "                    gridwidth= 1,\n",
    "                    dtick=1,\n",
    "                ),\n",
    "                yaxis=dict(\n",
    "                    title= 'matthews_corrcoef',\n",
    "                    ticklen= 5,\n",
    "                    gridwidth= 1,\n",
    "                ),\n",
    "             )\n",
    "\n",
    "plot_data = [trace]\n",
    "\n",
    "py.iplot({'data': plot_data, 'layout':layout}, filename='real_line')"
   ]
  },
  {
   "cell_type": "markdown",
   "metadata": {},
   "source": [
    "Результат такой же, как и ожидалось. Средняя часть еще меньше, чем в предыдущем эксперименте, максимумы на концах. При этом падение в \"среденей\" область достаточно незначительно, по сравнению с максимумом.\n",
    "\n",
    "Следовательно MCC с остальными в точке максимума на картинке совпадает случайно, что вызвано струткурой распределений на ответах, а не балансом выборки."
   ]
  },
  {
   "cell_type": "markdown",
   "metadata": {},
   "source": [
    "## Выводы"
   ]
  },
  {
   "cell_type": "markdown",
   "metadata": {},
   "source": [
    "ROC_AUC и Accuracy для сбалансированных классов - суть одно и то же, cohen_kappa_score - их линейное преобразование. Что показано в теоретиеских выкладках. При небольшом отклонении от идеального случая эти равенства сильно не меняются, но это зависит и от распределений на ответах.\n",
    "\n",
    "В слуае же с MCC наблюдаемая на исходной картинке закономерность - лишь совпадение, вызванное симметрией относительно медианы нормального распределения, что было показано в эксперименте. В нем было приведено множество, образующего \"тяжелые крылья\" с равномерной средней частью, в результате чего, даже при равенстве мощностей классов образовалось два максимума, удаленные от центра. Это вызвано тем, что MCC в сравнении с другими тремя метриками зависит не только от баланса, но и от схожести распределений и их симметричности относительно \"центра\"."
   ]
  }
 ],
 "metadata": {
  "kernelspec": {
   "display_name": "Python 3",
   "language": "python",
   "name": "python3"
  },
  "language_info": {
   "codemirror_mode": {
    "name": "ipython",
    "version": 3
   },
   "file_extension": ".py",
   "mimetype": "text/x-python",
   "name": "python",
   "nbconvert_exporter": "python",
   "pygments_lexer": "ipython3",
   "version": "3.7.0"
  }
 },
 "nbformat": 4,
 "nbformat_minor": 2
}
