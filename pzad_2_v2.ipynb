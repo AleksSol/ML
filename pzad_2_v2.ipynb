{
 "cells": [
  {
   "cell_type": "code",
   "execution_count": 95,
   "metadata": {},
   "outputs": [],
   "source": [
    "import numpy as np\n",
    "import matplotlib.pyplot as plt\n",
    "import seaborn as sns\n",
    "import pandas as pd\n",
    "import plotly.plotly as py\n",
    "import plotly.graph_objs as go\n",
    "from itertools import combinations\n",
    "\n",
    "sns.set()\n",
    "%matplotlib inline"
   ]
  },
  {
   "cell_type": "code",
   "execution_count": 3,
   "metadata": {},
   "outputs": [],
   "source": [
    "DATA = \"gun-violence-data_01-2013_03-2018.csv\"\n",
    "POPULATION_DATA = \"population.csv\""
   ]
  },
  {
   "cell_type": "markdown",
   "metadata": {},
   "source": [
    "https://plot.ly/python/choropleth-maps/"
   ]
  },
  {
   "cell_type": "markdown",
   "metadata": {},
   "source": [
    "# Вспомогательный код"
   ]
  },
  {
   "cell_type": "code",
   "execution_count": 4,
   "metadata": {},
   "outputs": [],
   "source": [
    "states = {\n",
    "        'AK': 'Alaska',\n",
    "        'AL': 'Alabama',\n",
    "        'AR': 'Arkansas',\n",
    "        'AS': 'American Samoa',\n",
    "        'AZ': 'Arizona',\n",
    "        'CA': 'California',\n",
    "        'CO': 'Colorado',\n",
    "        'CT': 'Connecticut',\n",
    "        'DC': 'District of Columbia',\n",
    "        'DE': 'Delaware',\n",
    "        'FL': 'Florida',\n",
    "        'GA': 'Georgia',\n",
    "        'GU': 'Guam',\n",
    "        'HI': 'Hawaii',\n",
    "        'IA': 'Iowa',\n",
    "        'ID': 'Idaho',\n",
    "        'IL': 'Illinois',\n",
    "        'IN': 'Indiana',\n",
    "        'KS': 'Kansas',\n",
    "        'KY': 'Kentucky',\n",
    "        'LA': 'Louisiana',\n",
    "        'MA': 'Massachusetts',\n",
    "        'MD': 'Maryland',\n",
    "        'ME': 'Maine',\n",
    "        'MI': 'Michigan',\n",
    "        'MN': 'Minnesota',\n",
    "        'MO': 'Missouri',\n",
    "        'MP': 'Northern Mariana Islands',\n",
    "        'MS': 'Mississippi',\n",
    "        'MT': 'Montana',\n",
    "        'NA': 'National',\n",
    "        'NC': 'North Carolina',\n",
    "        'ND': 'North Dakota',\n",
    "        'NE': 'Nebraska',\n",
    "        'NH': 'New Hampshire',\n",
    "        'NJ': 'New Jersey',\n",
    "        'NM': 'New Mexico',\n",
    "        'NV': 'Nevada',\n",
    "        'NY': 'New York',\n",
    "        'OH': 'Ohio',\n",
    "        'OK': 'Oklahoma',\n",
    "        'OR': 'Oregon',\n",
    "        'PA': 'Pennsylvania',\n",
    "        'PR': 'Puerto Rico',\n",
    "        'RI': 'Rhode Island',\n",
    "        'SC': 'South Carolina',\n",
    "        'SD': 'South Dakota',\n",
    "        'TN': 'Tennessee',\n",
    "        'TX': 'Texas',\n",
    "        'UT': 'Utah',\n",
    "        'VA': 'Virginia',\n",
    "        'VI': 'Virgin Islands',\n",
    "        'VT': 'Vermont',\n",
    "        'WA': 'Washington',\n",
    "        'WI': 'Wisconsin',\n",
    "        'WV': 'West Virginia',\n",
    "        'WY': 'Wyoming'\n",
    "}\n",
    "states_inv = dict(((v, k) for k, v in states.items()))"
   ]
  },
  {
   "cell_type": "code",
   "execution_count": 5,
   "metadata": {},
   "outputs": [],
   "source": [
    "def show_USA(data, title, bartitle, showcountries=False):\n",
    "    scl = [[0.0, 'rgb(242,240,247)'],[0.2, 'rgb(218,218,235)'],[0.4, 'rgb(188,189,220)'],\\\n",
    "                [0.6, 'rgb(158,154,200)'],[0.8, 'rgb(117,107,177)'],[1.0, 'rgb(84,39,143)']]\n",
    "\n",
    "    data = [ dict(\n",
    "            type='choropleth',\n",
    "            colorscale = scl,\n",
    "            autocolorscale = False,\n",
    "            locations = [states_inv[x] for x in data.index],\n",
    "            z = data.values.astype(float),\n",
    "            locationmode = 'USA-states',\n",
    "            text = list(data.index),\n",
    "            marker = dict(\n",
    "                line = dict (\n",
    "                    color = 'rgb(255,255,255)',\n",
    "                    width = 2\n",
    "                ) ),\n",
    "            colorbar = dict(\n",
    "                title = bartitle)\n",
    "            ) ]\n",
    "\n",
    "    layout = dict(\n",
    "            title = title,\n",
    "            geo = dict(\n",
    "                scope='usa',\n",
    "                projection=dict( type='albers usa' ),\n",
    "                showlakes = True,\n",
    "                showcountries = showcountries,\n",
    "                lakecolor = 'rgb(255, 255, 255)')\n",
    "                 )\n",
    "\n",
    "    fig = dict( data=data, layout=layout )\n",
    "    return fig"
   ]
  },
  {
   "cell_type": "markdown",
   "metadata": {},
   "source": [
    "# Загрузка данных"
   ]
  },
  {
   "cell_type": "code",
   "execution_count": 6,
   "metadata": {},
   "outputs": [],
   "source": [
    "data = pd.read_csv(DATA, index_col=0)"
   ]
  },
  {
   "cell_type": "code",
   "execution_count": 7,
   "metadata": {},
   "outputs": [],
   "source": [
    "population_data = pd.read_csv(POPULATION_DATA, index_col='State')['2018 Population']"
   ]
  },
  {
   "cell_type": "code",
   "execution_count": 8,
   "metadata": {},
   "outputs": [],
   "source": [
    "incidents_by_state = data.groupby('state').date.count()"
   ]
  },
  {
   "cell_type": "markdown",
   "metadata": {},
   "source": [
    "# Предварительный просмотр"
   ]
  },
  {
   "cell_type": "code",
   "execution_count": 9,
   "metadata": {
    "scrolled": true
   },
   "outputs": [
    {
     "data": {
      "text/html": [
       "<div>\n",
       "<style scoped>\n",
       "    .dataframe tbody tr th:only-of-type {\n",
       "        vertical-align: middle;\n",
       "    }\n",
       "\n",
       "    .dataframe tbody tr th {\n",
       "        vertical-align: top;\n",
       "    }\n",
       "\n",
       "    .dataframe thead th {\n",
       "        text-align: right;\n",
       "    }\n",
       "</style>\n",
       "<table border=\"1\" class=\"dataframe\">\n",
       "  <thead>\n",
       "    <tr style=\"text-align: right;\">\n",
       "      <th></th>\n",
       "      <th>date</th>\n",
       "      <th>state</th>\n",
       "      <th>city_or_county</th>\n",
       "      <th>address</th>\n",
       "      <th>n_killed</th>\n",
       "      <th>n_injured</th>\n",
       "      <th>incident_url</th>\n",
       "      <th>source_url</th>\n",
       "      <th>incident_url_fields_missing</th>\n",
       "      <th>congressional_district</th>\n",
       "      <th>...</th>\n",
       "      <th>participant_age</th>\n",
       "      <th>participant_age_group</th>\n",
       "      <th>participant_gender</th>\n",
       "      <th>participant_name</th>\n",
       "      <th>participant_relationship</th>\n",
       "      <th>participant_status</th>\n",
       "      <th>participant_type</th>\n",
       "      <th>sources</th>\n",
       "      <th>state_house_district</th>\n",
       "      <th>state_senate_district</th>\n",
       "    </tr>\n",
       "    <tr>\n",
       "      <th>incident_id</th>\n",
       "      <th></th>\n",
       "      <th></th>\n",
       "      <th></th>\n",
       "      <th></th>\n",
       "      <th></th>\n",
       "      <th></th>\n",
       "      <th></th>\n",
       "      <th></th>\n",
       "      <th></th>\n",
       "      <th></th>\n",
       "      <th></th>\n",
       "      <th></th>\n",
       "      <th></th>\n",
       "      <th></th>\n",
       "      <th></th>\n",
       "      <th></th>\n",
       "      <th></th>\n",
       "      <th></th>\n",
       "      <th></th>\n",
       "      <th></th>\n",
       "      <th></th>\n",
       "    </tr>\n",
       "  </thead>\n",
       "  <tbody>\n",
       "    <tr>\n",
       "      <th>461105</th>\n",
       "      <td>2013-01-01</td>\n",
       "      <td>Pennsylvania</td>\n",
       "      <td>Mckeesport</td>\n",
       "      <td>1506 Versailles Avenue and Coursin Street</td>\n",
       "      <td>0</td>\n",
       "      <td>4</td>\n",
       "      <td>http://www.gunviolencearchive.org/incident/461105</td>\n",
       "      <td>http://www.post-gazette.com/local/south/2013/0...</td>\n",
       "      <td>False</td>\n",
       "      <td>14.0</td>\n",
       "      <td>...</td>\n",
       "      <td>0::20</td>\n",
       "      <td>0::Adult 18+||1::Adult 18+||2::Adult 18+||3::A...</td>\n",
       "      <td>0::Male||1::Male||3::Male||4::Female</td>\n",
       "      <td>0::Julian Sims</td>\n",
       "      <td>NaN</td>\n",
       "      <td>0::Arrested||1::Injured||2::Injured||3::Injure...</td>\n",
       "      <td>0::Victim||1::Victim||2::Victim||3::Victim||4:...</td>\n",
       "      <td>http://pittsburgh.cbslocal.com/2013/01/01/4-pe...</td>\n",
       "      <td>NaN</td>\n",
       "      <td>NaN</td>\n",
       "    </tr>\n",
       "    <tr>\n",
       "      <th>460726</th>\n",
       "      <td>2013-01-01</td>\n",
       "      <td>California</td>\n",
       "      <td>Hawthorne</td>\n",
       "      <td>13500 block of Cerise Avenue</td>\n",
       "      <td>1</td>\n",
       "      <td>3</td>\n",
       "      <td>http://www.gunviolencearchive.org/incident/460726</td>\n",
       "      <td>http://www.dailybulletin.com/article/zz/201301...</td>\n",
       "      <td>False</td>\n",
       "      <td>43.0</td>\n",
       "      <td>...</td>\n",
       "      <td>0::20</td>\n",
       "      <td>0::Adult 18+||1::Adult 18+||2::Adult 18+||3::A...</td>\n",
       "      <td>0::Male</td>\n",
       "      <td>0::Bernard Gillis</td>\n",
       "      <td>NaN</td>\n",
       "      <td>0::Killed||1::Injured||2::Injured||3::Injured</td>\n",
       "      <td>0::Victim||1::Victim||2::Victim||3::Victim||4:...</td>\n",
       "      <td>http://losangeles.cbslocal.com/2013/01/01/man-...</td>\n",
       "      <td>62.0</td>\n",
       "      <td>35.0</td>\n",
       "    </tr>\n",
       "    <tr>\n",
       "      <th>478855</th>\n",
       "      <td>2013-01-01</td>\n",
       "      <td>Ohio</td>\n",
       "      <td>Lorain</td>\n",
       "      <td>1776 East 28th Street</td>\n",
       "      <td>1</td>\n",
       "      <td>3</td>\n",
       "      <td>http://www.gunviolencearchive.org/incident/478855</td>\n",
       "      <td>http://chronicle.northcoastnow.com/2013/02/14/...</td>\n",
       "      <td>False</td>\n",
       "      <td>9.0</td>\n",
       "      <td>...</td>\n",
       "      <td>0::25||1::31||2::33||3::34||4::33</td>\n",
       "      <td>0::Adult 18+||1::Adult 18+||2::Adult 18+||3::A...</td>\n",
       "      <td>0::Male||1::Male||2::Male||3::Male||4::Male</td>\n",
       "      <td>0::Damien Bell||1::Desmen Noble||2::Herman Sea...</td>\n",
       "      <td>NaN</td>\n",
       "      <td>0::Injured, Unharmed, Arrested||1::Unharmed, A...</td>\n",
       "      <td>0::Subject-Suspect||1::Subject-Suspect||2::Vic...</td>\n",
       "      <td>http://www.morningjournal.com/general-news/201...</td>\n",
       "      <td>56.0</td>\n",
       "      <td>13.0</td>\n",
       "    </tr>\n",
       "    <tr>\n",
       "      <th>478925</th>\n",
       "      <td>2013-01-05</td>\n",
       "      <td>Colorado</td>\n",
       "      <td>Aurora</td>\n",
       "      <td>16000 block of East Ithaca Place</td>\n",
       "      <td>4</td>\n",
       "      <td>0</td>\n",
       "      <td>http://www.gunviolencearchive.org/incident/478925</td>\n",
       "      <td>http://www.dailydemocrat.com/20130106/aurora-s...</td>\n",
       "      <td>False</td>\n",
       "      <td>6.0</td>\n",
       "      <td>...</td>\n",
       "      <td>0::29||1::33||2::56||3::33</td>\n",
       "      <td>0::Adult 18+||1::Adult 18+||2::Adult 18+||3::A...</td>\n",
       "      <td>0::Female||1::Male||2::Male||3::Male</td>\n",
       "      <td>0::Stacie Philbrook||1::Christopher Ratliffe||...</td>\n",
       "      <td>NaN</td>\n",
       "      <td>0::Killed||1::Killed||2::Killed||3::Killed</td>\n",
       "      <td>0::Victim||1::Victim||2::Victim||3::Subject-Su...</td>\n",
       "      <td>http://denver.cbslocal.com/2013/01/06/officer-...</td>\n",
       "      <td>40.0</td>\n",
       "      <td>28.0</td>\n",
       "    </tr>\n",
       "    <tr>\n",
       "      <th>478959</th>\n",
       "      <td>2013-01-07</td>\n",
       "      <td>North Carolina</td>\n",
       "      <td>Greensboro</td>\n",
       "      <td>307 Mourning Dove Terrace</td>\n",
       "      <td>2</td>\n",
       "      <td>2</td>\n",
       "      <td>http://www.gunviolencearchive.org/incident/478959</td>\n",
       "      <td>http://www.journalnow.com/news/local/article_d...</td>\n",
       "      <td>False</td>\n",
       "      <td>6.0</td>\n",
       "      <td>...</td>\n",
       "      <td>0::18||1::46||2::14||3::47</td>\n",
       "      <td>0::Adult 18+||1::Adult 18+||2::Teen 12-17||3::...</td>\n",
       "      <td>0::Female||1::Male||2::Male||3::Female</td>\n",
       "      <td>0::Danielle Imani Jameison||1::Maurice Eugene ...</td>\n",
       "      <td>3::Family</td>\n",
       "      <td>0::Injured||1::Injured||2::Killed||3::Killed</td>\n",
       "      <td>0::Victim||1::Victim||2::Victim||3::Subject-Su...</td>\n",
       "      <td>http://myfox8.com/2013/01/08/update-mother-sho...</td>\n",
       "      <td>62.0</td>\n",
       "      <td>27.0</td>\n",
       "    </tr>\n",
       "  </tbody>\n",
       "</table>\n",
       "<p>5 rows × 28 columns</p>\n",
       "</div>"
      ],
      "text/plain": [
       "                   date           state city_or_county  \\\n",
       "incident_id                                              \n",
       "461105       2013-01-01    Pennsylvania     Mckeesport   \n",
       "460726       2013-01-01      California      Hawthorne   \n",
       "478855       2013-01-01            Ohio         Lorain   \n",
       "478925       2013-01-05        Colorado         Aurora   \n",
       "478959       2013-01-07  North Carolina     Greensboro   \n",
       "\n",
       "                                               address  n_killed  n_injured  \\\n",
       "incident_id                                                                   \n",
       "461105       1506 Versailles Avenue and Coursin Street         0          4   \n",
       "460726                    13500 block of Cerise Avenue         1          3   \n",
       "478855                           1776 East 28th Street         1          3   \n",
       "478925                16000 block of East Ithaca Place         4          0   \n",
       "478959                       307 Mourning Dove Terrace         2          2   \n",
       "\n",
       "                                                  incident_url  \\\n",
       "incident_id                                                      \n",
       "461105       http://www.gunviolencearchive.org/incident/461105   \n",
       "460726       http://www.gunviolencearchive.org/incident/460726   \n",
       "478855       http://www.gunviolencearchive.org/incident/478855   \n",
       "478925       http://www.gunviolencearchive.org/incident/478925   \n",
       "478959       http://www.gunviolencearchive.org/incident/478959   \n",
       "\n",
       "                                                    source_url  \\\n",
       "incident_id                                                      \n",
       "461105       http://www.post-gazette.com/local/south/2013/0...   \n",
       "460726       http://www.dailybulletin.com/article/zz/201301...   \n",
       "478855       http://chronicle.northcoastnow.com/2013/02/14/...   \n",
       "478925       http://www.dailydemocrat.com/20130106/aurora-s...   \n",
       "478959       http://www.journalnow.com/news/local/article_d...   \n",
       "\n",
       "             incident_url_fields_missing  congressional_district  \\\n",
       "incident_id                                                        \n",
       "461105                             False                    14.0   \n",
       "460726                             False                    43.0   \n",
       "478855                             False                     9.0   \n",
       "478925                             False                     6.0   \n",
       "478959                             False                     6.0   \n",
       "\n",
       "                     ...                             participant_age  \\\n",
       "incident_id          ...                                               \n",
       "461105               ...                                       0::20   \n",
       "460726               ...                                       0::20   \n",
       "478855               ...           0::25||1::31||2::33||3::34||4::33   \n",
       "478925               ...                  0::29||1::33||2::56||3::33   \n",
       "478959               ...                  0::18||1::46||2::14||3::47   \n",
       "\n",
       "                                         participant_age_group  \\\n",
       "incident_id                                                      \n",
       "461105       0::Adult 18+||1::Adult 18+||2::Adult 18+||3::A...   \n",
       "460726       0::Adult 18+||1::Adult 18+||2::Adult 18+||3::A...   \n",
       "478855       0::Adult 18+||1::Adult 18+||2::Adult 18+||3::A...   \n",
       "478925       0::Adult 18+||1::Adult 18+||2::Adult 18+||3::A...   \n",
       "478959       0::Adult 18+||1::Adult 18+||2::Teen 12-17||3::...   \n",
       "\n",
       "                                      participant_gender  \\\n",
       "incident_id                                                \n",
       "461105              0::Male||1::Male||3::Male||4::Female   \n",
       "460726                                           0::Male   \n",
       "478855       0::Male||1::Male||2::Male||3::Male||4::Male   \n",
       "478925              0::Female||1::Male||2::Male||3::Male   \n",
       "478959            0::Female||1::Male||2::Male||3::Female   \n",
       "\n",
       "                                              participant_name  \\\n",
       "incident_id                                                      \n",
       "461105                                          0::Julian Sims   \n",
       "460726                                       0::Bernard Gillis   \n",
       "478855       0::Damien Bell||1::Desmen Noble||2::Herman Sea...   \n",
       "478925       0::Stacie Philbrook||1::Christopher Ratliffe||...   \n",
       "478959       0::Danielle Imani Jameison||1::Maurice Eugene ...   \n",
       "\n",
       "            participant_relationship  \\\n",
       "incident_id                            \n",
       "461105                           NaN   \n",
       "460726                           NaN   \n",
       "478855                           NaN   \n",
       "478925                           NaN   \n",
       "478959                     3::Family   \n",
       "\n",
       "                                            participant_status  \\\n",
       "incident_id                                                      \n",
       "461105       0::Arrested||1::Injured||2::Injured||3::Injure...   \n",
       "460726           0::Killed||1::Injured||2::Injured||3::Injured   \n",
       "478855       0::Injured, Unharmed, Arrested||1::Unharmed, A...   \n",
       "478925              0::Killed||1::Killed||2::Killed||3::Killed   \n",
       "478959            0::Injured||1::Injured||2::Killed||3::Killed   \n",
       "\n",
       "                                              participant_type  \\\n",
       "incident_id                                                      \n",
       "461105       0::Victim||1::Victim||2::Victim||3::Victim||4:...   \n",
       "460726       0::Victim||1::Victim||2::Victim||3::Victim||4:...   \n",
       "478855       0::Subject-Suspect||1::Subject-Suspect||2::Vic...   \n",
       "478925       0::Victim||1::Victim||2::Victim||3::Subject-Su...   \n",
       "478959       0::Victim||1::Victim||2::Victim||3::Subject-Su...   \n",
       "\n",
       "                                                       sources  \\\n",
       "incident_id                                                      \n",
       "461105       http://pittsburgh.cbslocal.com/2013/01/01/4-pe...   \n",
       "460726       http://losangeles.cbslocal.com/2013/01/01/man-...   \n",
       "478855       http://www.morningjournal.com/general-news/201...   \n",
       "478925       http://denver.cbslocal.com/2013/01/06/officer-...   \n",
       "478959       http://myfox8.com/2013/01/08/update-mother-sho...   \n",
       "\n",
       "            state_house_district state_senate_district  \n",
       "incident_id                                             \n",
       "461105                       NaN                   NaN  \n",
       "460726                      62.0                  35.0  \n",
       "478855                      56.0                  13.0  \n",
       "478925                      40.0                  28.0  \n",
       "478959                      62.0                  27.0  \n",
       "\n",
       "[5 rows x 28 columns]"
      ]
     },
     "execution_count": 9,
     "metadata": {},
     "output_type": "execute_result"
    }
   ],
   "source": [
    "data.head()"
   ]
  },
  {
   "cell_type": "code",
   "execution_count": 10,
   "metadata": {
    "scrolled": true
   },
   "outputs": [
    {
     "name": "stdout",
     "output_type": "stream",
     "text": [
      "<class 'pandas.core.frame.DataFrame'>\n",
      "Int64Index: 239677 entries, 461105 to 1081940\n",
      "Data columns (total 28 columns):\n",
      "date                           239677 non-null object\n",
      "state                          239677 non-null object\n",
      "city_or_county                 239677 non-null object\n",
      "address                        223180 non-null object\n",
      "n_killed                       239677 non-null int64\n",
      "n_injured                      239677 non-null int64\n",
      "incident_url                   239677 non-null object\n",
      "source_url                     239209 non-null object\n",
      "incident_url_fields_missing    239677 non-null bool\n",
      "congressional_district         227733 non-null float64\n",
      "gun_stolen                     140179 non-null object\n",
      "gun_type                       140226 non-null object\n",
      "incident_characteristics       239351 non-null object\n",
      "latitude                       231754 non-null float64\n",
      "location_description           42089 non-null object\n",
      "longitude                      231754 non-null float64\n",
      "n_guns_involved                140226 non-null float64\n",
      "notes                          158660 non-null object\n",
      "participant_age                147379 non-null object\n",
      "participant_age_group          197558 non-null object\n",
      "participant_gender             203315 non-null object\n",
      "participant_name               117424 non-null object\n",
      "participant_relationship       15774 non-null object\n",
      "participant_status             212051 non-null object\n",
      "participant_type               214814 non-null object\n",
      "sources                        239068 non-null object\n",
      "state_house_district           200905 non-null float64\n",
      "state_senate_district          207342 non-null float64\n",
      "dtypes: bool(1), float64(6), int64(2), object(19)\n",
      "memory usage: 51.4+ MB\n"
     ]
    }
   ],
   "source": [
    "data.info()"
   ]
  },
  {
   "cell_type": "code",
   "execution_count": 11,
   "metadata": {
    "scrolled": true
   },
   "outputs": [
    {
     "data": {
      "text/html": [
       "<div>\n",
       "<style scoped>\n",
       "    .dataframe tbody tr th:only-of-type {\n",
       "        vertical-align: middle;\n",
       "    }\n",
       "\n",
       "    .dataframe tbody tr th {\n",
       "        vertical-align: top;\n",
       "    }\n",
       "\n",
       "    .dataframe thead th {\n",
       "        text-align: right;\n",
       "    }\n",
       "</style>\n",
       "<table border=\"1\" class=\"dataframe\">\n",
       "  <thead>\n",
       "    <tr style=\"text-align: right;\">\n",
       "      <th></th>\n",
       "      <th>n_killed</th>\n",
       "      <th>n_injured</th>\n",
       "      <th>congressional_district</th>\n",
       "      <th>latitude</th>\n",
       "      <th>longitude</th>\n",
       "      <th>n_guns_involved</th>\n",
       "      <th>state_house_district</th>\n",
       "      <th>state_senate_district</th>\n",
       "    </tr>\n",
       "  </thead>\n",
       "  <tbody>\n",
       "    <tr>\n",
       "      <th>count</th>\n",
       "      <td>239677.000000</td>\n",
       "      <td>239677.000000</td>\n",
       "      <td>227733.000000</td>\n",
       "      <td>231754.000000</td>\n",
       "      <td>231754.000000</td>\n",
       "      <td>140226.000000</td>\n",
       "      <td>200905.000000</td>\n",
       "      <td>207342.00000</td>\n",
       "    </tr>\n",
       "    <tr>\n",
       "      <th>mean</th>\n",
       "      <td>0.252290</td>\n",
       "      <td>0.494007</td>\n",
       "      <td>8.001265</td>\n",
       "      <td>37.546598</td>\n",
       "      <td>-89.338348</td>\n",
       "      <td>1.372442</td>\n",
       "      <td>55.447132</td>\n",
       "      <td>20.47711</td>\n",
       "    </tr>\n",
       "    <tr>\n",
       "      <th>std</th>\n",
       "      <td>0.521779</td>\n",
       "      <td>0.729952</td>\n",
       "      <td>8.480835</td>\n",
       "      <td>5.130763</td>\n",
       "      <td>14.359546</td>\n",
       "      <td>4.678202</td>\n",
       "      <td>42.048117</td>\n",
       "      <td>14.20456</td>\n",
       "    </tr>\n",
       "    <tr>\n",
       "      <th>min</th>\n",
       "      <td>0.000000</td>\n",
       "      <td>0.000000</td>\n",
       "      <td>0.000000</td>\n",
       "      <td>19.111400</td>\n",
       "      <td>-171.429000</td>\n",
       "      <td>1.000000</td>\n",
       "      <td>1.000000</td>\n",
       "      <td>1.00000</td>\n",
       "    </tr>\n",
       "    <tr>\n",
       "      <th>25%</th>\n",
       "      <td>0.000000</td>\n",
       "      <td>0.000000</td>\n",
       "      <td>2.000000</td>\n",
       "      <td>33.903400</td>\n",
       "      <td>-94.158725</td>\n",
       "      <td>1.000000</td>\n",
       "      <td>21.000000</td>\n",
       "      <td>9.00000</td>\n",
       "    </tr>\n",
       "    <tr>\n",
       "      <th>50%</th>\n",
       "      <td>0.000000</td>\n",
       "      <td>0.000000</td>\n",
       "      <td>5.000000</td>\n",
       "      <td>38.570600</td>\n",
       "      <td>-86.249600</td>\n",
       "      <td>1.000000</td>\n",
       "      <td>47.000000</td>\n",
       "      <td>19.00000</td>\n",
       "    </tr>\n",
       "    <tr>\n",
       "      <th>75%</th>\n",
       "      <td>0.000000</td>\n",
       "      <td>1.000000</td>\n",
       "      <td>10.000000</td>\n",
       "      <td>41.437375</td>\n",
       "      <td>-80.048625</td>\n",
       "      <td>1.000000</td>\n",
       "      <td>84.000000</td>\n",
       "      <td>30.00000</td>\n",
       "    </tr>\n",
       "    <tr>\n",
       "      <th>max</th>\n",
       "      <td>50.000000</td>\n",
       "      <td>53.000000</td>\n",
       "      <td>53.000000</td>\n",
       "      <td>71.336800</td>\n",
       "      <td>97.433100</td>\n",
       "      <td>400.000000</td>\n",
       "      <td>901.000000</td>\n",
       "      <td>94.00000</td>\n",
       "    </tr>\n",
       "  </tbody>\n",
       "</table>\n",
       "</div>"
      ],
      "text/plain": [
       "            n_killed      n_injured  congressional_district       latitude  \\\n",
       "count  239677.000000  239677.000000           227733.000000  231754.000000   \n",
       "mean        0.252290       0.494007                8.001265      37.546598   \n",
       "std         0.521779       0.729952                8.480835       5.130763   \n",
       "min         0.000000       0.000000                0.000000      19.111400   \n",
       "25%         0.000000       0.000000                2.000000      33.903400   \n",
       "50%         0.000000       0.000000                5.000000      38.570600   \n",
       "75%         0.000000       1.000000               10.000000      41.437375   \n",
       "max        50.000000      53.000000               53.000000      71.336800   \n",
       "\n",
       "           longitude  n_guns_involved  state_house_district  \\\n",
       "count  231754.000000    140226.000000         200905.000000   \n",
       "mean      -89.338348         1.372442             55.447132   \n",
       "std        14.359546         4.678202             42.048117   \n",
       "min      -171.429000         1.000000              1.000000   \n",
       "25%       -94.158725         1.000000             21.000000   \n",
       "50%       -86.249600         1.000000             47.000000   \n",
       "75%       -80.048625         1.000000             84.000000   \n",
       "max        97.433100       400.000000            901.000000   \n",
       "\n",
       "       state_senate_district  \n",
       "count           207342.00000  \n",
       "mean                20.47711  \n",
       "std                 14.20456  \n",
       "min                  1.00000  \n",
       "25%                  9.00000  \n",
       "50%                 19.00000  \n",
       "75%                 30.00000  \n",
       "max                 94.00000  "
      ]
     },
     "execution_count": 11,
     "metadata": {},
     "output_type": "execute_result"
    }
   ],
   "source": [
    "data.describe()"
   ]
  },
  {
   "cell_type": "code",
   "execution_count": 12,
   "metadata": {},
   "outputs": [
    {
     "data": {
      "text/plain": [
       "incident_id\n",
       "461105                                0::20\n",
       "460726                                0::20\n",
       "478855    0::25||1::31||2::33||3::34||4::33\n",
       "478925           0::29||1::33||2::56||3::33\n",
       "478959           0::18||1::46||2::14||3::47\n",
       "Name: participant_age, dtype: object"
      ]
     },
     "execution_count": 12,
     "metadata": {},
     "output_type": "execute_result"
    }
   ],
   "source": [
    "data.participant_age.head()"
   ]
  },
  {
   "cell_type": "code",
   "execution_count": 13,
   "metadata": {},
   "outputs": [],
   "source": [
    "ages =  [x.split('||') if x is not np.nan else np.nan for x in data.participant_age.values]"
   ]
  },
  {
   "cell_type": "code",
   "execution_count": 16,
   "metadata": {},
   "outputs": [
    {
     "data": {
      "text/plain": [
       "[['0::20'],\n",
       " ['0::20'],\n",
       " ['0::25', '1::31', '2::33', '3::34', '4::33'],\n",
       " ['0::29', '1::33', '2::56', '3::33'],\n",
       " ['0::18', '1::46', '2::14', '3::47'],\n",
       " ['0::23', '1::23', '2::33', '3::55'],\n",
       " ['0::51', '1::40', '2::9', '3::5', '4::2', '5::15'],\n",
       " nan,\n",
       " nan,\n",
       " ['0::15']]"
      ]
     },
     "execution_count": 16,
     "metadata": {},
     "output_type": "execute_result"
    }
   ],
   "source": [
    "ages[:10]"
   ]
  },
  {
   "cell_type": "code",
   "execution_count": 17,
   "metadata": {},
   "outputs": [],
   "source": [
    "ages = [np.mean([float(y.split(':')[-1]) for y in x]) if x is not np.nan else np.nan for x  in ages]"
   ]
  },
  {
   "cell_type": "code",
   "execution_count": 18,
   "metadata": {},
   "outputs": [],
   "source": [
    "data['mean_age'] = ages"
   ]
  },
  {
   "cell_type": "markdown",
   "metadata": {},
   "source": [
    "*Странноватый формат записи возраста, если честно*"
   ]
  },
  {
   "cell_type": "markdown",
   "metadata": {},
   "source": [
    "# Отрисовка всевозможных карт"
   ]
  },
  {
   "cell_type": "markdown",
   "metadata": {},
   "source": [
    "### Число происшествий"
   ]
  },
  {
   "cell_type": "code",
   "execution_count": 19,
   "metadata": {},
   "outputs": [
    {
     "name": "stdout",
     "output_type": "stream",
     "text": [
      "High five! You successfully sent some data to your account on plotly. View your plot in your browser at https://plot.ly/~aleksey_dumbay/0 or inside your plot.ly account where it is named 'd3-cloropleth-map'\n"
     ]
    },
    {
     "data": {
      "text/html": [
       "<iframe id=\"igraph\" scrolling=\"no\" style=\"border:none;\" seamless=\"seamless\" src=\"https://plot.ly/~aleksey_dumbay/0.embed\" height=\"525px\" width=\"100%\"></iframe>"
      ],
      "text/plain": [
       "<plotly.tools.PlotlyDisplay object>"
      ]
     },
     "execution_count": 19,
     "metadata": {},
     "output_type": "execute_result"
    }
   ],
   "source": [
    "fig = show_USA(incidents_by_state, 'Число преступлений с применением оружия', 'Число происшествий')\n",
    "py.iplot( fig, filename='d3-cloropleth-map' )"
   ]
  },
  {
   "cell_type": "markdown",
   "metadata": {},
   "source": [
    "### Число происшествий на душу населения"
   ]
  },
  {
   "cell_type": "code",
   "execution_count": 20,
   "metadata": {
    "scrolled": false
   },
   "outputs": [
    {
     "name": "stdout",
     "output_type": "stream",
     "text": [
      "High five! You successfully sent some data to your account on plotly. View your plot in your browser at https://plot.ly/~aleksey_dumbay/0 or inside your plot.ly account where it is named 'd3-cloropleth-map'\n"
     ]
    },
    {
     "data": {
      "text/html": [
       "<iframe id=\"igraph\" scrolling=\"no\" style=\"border:none;\" seamless=\"seamless\" src=\"https://plot.ly/~aleksey_dumbay/0.embed\" height=\"525px\" width=\"100%\"></iframe>"
      ],
      "text/plain": [
       "<plotly.tools.PlotlyDisplay object>"
      ]
     },
     "execution_count": 20,
     "metadata": {},
     "output_type": "execute_result"
    }
   ],
   "source": [
    "fig = show_USA(incidents_by_state / population_data, 'Число преступлений с применением оружия на душу населения', 'Число происшествий')\n",
    "py.iplot( fig, filename='d3-cloropleth-map' )"
   ]
  },
  {
   "cell_type": "code",
   "execution_count": 21,
   "metadata": {},
   "outputs": [
    {
     "data": {
      "text/plain": [
       "Alabama                 0.001119\n",
       "Alaska                  0.001828\n",
       "Arizona                 0.000327\n",
       "Arkansas                0.000941\n",
       "California              0.000410\n",
       "Colorado                0.000563\n",
       "Connecticut             0.000855\n",
       "Delaware                0.001735\n",
       "District of Columbia    0.004541\n",
       "Florida                 0.000705\n",
       "Georgia                 0.000846\n",
       "Hawaii                  0.000203\n",
       "Idaho                   0.000377\n",
       "Illinois                0.001375\n",
       "Indiana                 0.000873\n",
       "Iowa                    0.000796\n",
       "Kansas                  0.000735\n",
       "Kentucky                0.000930\n",
       "Louisiana               0.001730\n",
       "Maine                   0.000676\n",
       "Maryland                0.000954\n",
       "Massachusetts           0.000867\n",
       "Michigan                0.000614\n",
       "Minnesota               0.000428\n",
       "Mississippi             0.001207\n",
       "Missouri                0.001081\n",
       "Montana                 0.000601\n",
       "Nebraska                0.000854\n",
       "Nevada                  0.000639\n",
       "New Hampshire           0.000714\n",
       "New Jersey              0.000596\n",
       "New Mexico              0.000787\n",
       "New York                0.000489\n",
       "North Carolina          0.000841\n",
       "North Dakota            0.000759\n",
       "Ohio                    0.000876\n",
       "Oklahoma                0.000877\n",
       "Oregon                  0.000544\n",
       "Pennsylvania            0.000696\n",
       "Rhode Island            0.000843\n",
       "South Carolina          0.001364\n",
       "South Dakota            0.000620\n",
       "Tennessee               0.001124\n",
       "Texas                   0.000473\n",
       "Utah                    0.000339\n",
       "Vermont                 0.000756\n",
       "Virginia                0.000698\n",
       "Washington              0.000456\n",
       "West Virginia           0.000874\n",
       "Wisconsin               0.000823\n",
       "Wyoming                 0.000861\n",
       "dtype: float64"
      ]
     },
     "execution_count": 21,
     "metadata": {},
     "output_type": "execute_result"
    }
   ],
   "source": [
    "incidents_by_state / population_data"
   ]
  },
  {
   "cell_type": "markdown",
   "metadata": {},
   "source": [
    "_Колумбия_"
   ]
  },
  {
   "cell_type": "markdown",
   "metadata": {},
   "source": [
    "### Число убитых к инцидентам"
   ]
  },
  {
   "cell_type": "code",
   "execution_count": 22,
   "metadata": {},
   "outputs": [],
   "source": [
    "diff = data.groupby('state').n_killed.sum() / data.groupby('state').n_killed.count()"
   ]
  },
  {
   "cell_type": "code",
   "execution_count": 23,
   "metadata": {},
   "outputs": [
    {
     "name": "stdout",
     "output_type": "stream",
     "text": [
      "High five! You successfully sent some data to your account on plotly. View your plot in your browser at https://plot.ly/~aleksey_dumbay/0 or inside your plot.ly account where it is named 'd3-cloropleth-map'\n"
     ]
    },
    {
     "data": {
      "text/html": [
       "<iframe id=\"igraph\" scrolling=\"no\" style=\"border:none;\" seamless=\"seamless\" src=\"https://plot.ly/~aleksey_dumbay/0.embed\" height=\"525px\" width=\"100%\"></iframe>"
      ],
      "text/plain": [
       "<plotly.tools.PlotlyDisplay object>"
      ]
     },
     "execution_count": 23,
     "metadata": {},
     "output_type": "execute_result"
    }
   ],
   "source": [
    "fig = show_USA(diff, 'Отношение числа убийст к числу инцидентов', 'Отношение')\n",
    "py.iplot( fig, filename='d3-cloropleth-map' )"
   ]
  },
  {
   "cell_type": "markdown",
   "metadata": {},
   "source": [
    "### Число убитых к населению"
   ]
  },
  {
   "cell_type": "code",
   "execution_count": 24,
   "metadata": {},
   "outputs": [],
   "source": [
    "diff_1 = data.groupby('state').n_killed.sum() / population_data"
   ]
  },
  {
   "cell_type": "code",
   "execution_count": 25,
   "metadata": {},
   "outputs": [
    {
     "name": "stdout",
     "output_type": "stream",
     "text": [
      "High five! You successfully sent some data to your account on plotly. View your plot in your browser at https://plot.ly/~aleksey_dumbay/0 or inside your plot.ly account where it is named 'd3-cloropleth-map'\n"
     ]
    },
    {
     "data": {
      "text/html": [
       "<iframe id=\"igraph\" scrolling=\"no\" style=\"border:none;\" seamless=\"seamless\" src=\"https://plot.ly/~aleksey_dumbay/0.embed\" height=\"525px\" width=\"100%\"></iframe>"
      ],
      "text/plain": [
       "<plotly.tools.PlotlyDisplay object>"
      ]
     },
     "execution_count": 25,
     "metadata": {},
     "output_type": "execute_result"
    }
   ],
   "source": [
    "fig = show_USA(diff_1, 'Отношение числа убийст к населению', 'Отношение')\n",
    "py.iplot( fig, filename='d3-cloropleth-map' )"
   ]
  },
  {
   "cell_type": "markdown",
   "metadata": {},
   "source": [
    "### Средний возраст по штатам"
   ]
  },
  {
   "cell_type": "code",
   "execution_count": 26,
   "metadata": {},
   "outputs": [
    {
     "name": "stdout",
     "output_type": "stream",
     "text": [
      "High five! You successfully sent some data to your account on plotly. View your plot in your browser at https://plot.ly/~aleksey_dumbay/0 or inside your plot.ly account where it is named 'd3-cloropleth-map'\n"
     ]
    },
    {
     "data": {
      "text/html": [
       "<iframe id=\"igraph\" scrolling=\"no\" style=\"border:none;\" seamless=\"seamless\" src=\"https://plot.ly/~aleksey_dumbay/0.embed\" height=\"525px\" width=\"100%\"></iframe>"
      ],
      "text/plain": [
       "<plotly.tools.PlotlyDisplay object>"
      ]
     },
     "execution_count": 26,
     "metadata": {},
     "output_type": "execute_result"
    }
   ],
   "source": [
    "diff_age = data.groupby('state').mean_age.mean() \n",
    "fig = show_USA(diff_age, 'Средний возраст участников', 'Возраст, лет')\n",
    "py.iplot( fig, filename='d3-cloropleth-map' )"
   ]
  },
  {
   "cell_type": "markdown",
   "metadata": {},
   "source": [
    "### Число раненых к числу инцидентов"
   ]
  },
  {
   "cell_type": "code",
   "execution_count": 27,
   "metadata": {},
   "outputs": [
    {
     "name": "stdout",
     "output_type": "stream",
     "text": [
      "High five! You successfully sent some data to your account on plotly. View your plot in your browser at https://plot.ly/~aleksey_dumbay/0 or inside your plot.ly account where it is named 'd3-cloropleth-map'\n"
     ]
    },
    {
     "data": {
      "text/html": [
       "<iframe id=\"igraph\" scrolling=\"no\" style=\"border:none;\" seamless=\"seamless\" src=\"https://plot.ly/~aleksey_dumbay/0.embed\" height=\"525px\" width=\"100%\"></iframe>"
      ],
      "text/plain": [
       "<plotly.tools.PlotlyDisplay object>"
      ]
     },
     "execution_count": 27,
     "metadata": {},
     "output_type": "execute_result"
    }
   ],
   "source": [
    "diff_inj = data.groupby('state').n_injured.sum() / data.groupby('state').n_injured.count()\n",
    "fig = show_USA(diff_inj, 'Отношение числа раненых к числу инцидентов', 'Отношение')\n",
    "py.iplot( fig, filename='d3-cloropleth-map' )"
   ]
  },
  {
   "cell_type": "code",
   "execution_count": 28,
   "metadata": {},
   "outputs": [],
   "source": [
    "sub_data = np.random.choice(len(data), size=(5000), replace=False)"
   ]
  },
  {
   "cell_type": "markdown",
   "metadata": {},
   "source": [
    "## Табличные данные"
   ]
  },
  {
   "cell_type": "code",
   "execution_count": 29,
   "metadata": {
    "scrolled": true
   },
   "outputs": [
    {
     "data": {
      "text/html": [
       "<iframe id=\"igraph\" scrolling=\"no\" style=\"border:none;\" seamless=\"seamless\" src=\"https://plot.ly/~aleksey_dumbay/2.embed\" height=\"525px\" width=\"100%\"></iframe>"
      ],
      "text/plain": [
       "<plotly.tools.PlotlyDisplay object>"
      ]
     },
     "execution_count": 29,
     "metadata": {},
     "output_type": "execute_result"
    }
   ],
   "source": [
    "trace = go.Scatter(x=data.iloc[sub_data].n_killed + np.random.rand(len(sub_data))*0.2, \n",
    "                   y=data.iloc[sub_data].n_injured + np.random.rand(len(sub_data))*0.4, \n",
    "                   mode = 'markers')\n",
    "layout = dict(title = 'Убийства и раненые',\n",
    "               xaxis= dict(\n",
    "                    title= 'Убитые',\n",
    "                    ticklen= 5,\n",
    "                    zeroline= False,\n",
    "                    gridwidth= 1,\n",
    "                    dtick=1,\n",
    "                ),\n",
    "                yaxis=dict(\n",
    "                    title= 'Раненые',\n",
    "                    ticklen= 5,\n",
    "                    gridwidth= 1,\n",
    "                    dtick=1,\n",
    "                ),\n",
    "             )\n",
    "\n",
    "plot_data = [trace]\n",
    "py.iplot({'data': plot_data, 'layout':layout}, filename='basic-scatter')"
   ]
  },
  {
   "cell_type": "code",
   "execution_count": 30,
   "metadata": {},
   "outputs": [],
   "source": [
    "sub_data = np.random.choice(len(data), size=(5000), replace=False)"
   ]
  },
  {
   "cell_type": "markdown",
   "metadata": {},
   "source": [
    "### Города"
   ]
  },
  {
   "cell_type": "code",
   "execution_count": null,
   "metadata": {},
   "outputs": [],
   "source": []
  },
  {
   "cell_type": "code",
   "execution_count": 31,
   "metadata": {},
   "outputs": [],
   "source": [
    "top_places = data.groupby('city_or_county').date.count()"
   ]
  },
  {
   "cell_type": "code",
   "execution_count": 32,
   "metadata": {},
   "outputs": [],
   "source": [
    "tp = top_places.sort_values()[-20:]"
   ]
  },
  {
   "cell_type": "code",
   "execution_count": 33,
   "metadata": {},
   "outputs": [
    {
     "data": {
      "text/html": [
       "<iframe id=\"igraph\" scrolling=\"no\" style=\"border:none;\" seamless=\"seamless\" src=\"https://plot.ly/~aleksey_dumbay/5.embed\" height=\"525px\" width=\"100%\"></iframe>"
      ],
      "text/plain": [
       "<plotly.tools.PlotlyDisplay object>"
      ]
     },
     "execution_count": 33,
     "metadata": {},
     "output_type": "execute_result"
    }
   ],
   "source": [
    "data1 = [go.Bar(\n",
    "            x=tp,\n",
    "            y=tp.index,\n",
    "            orientation = 'h'\n",
    ")]\n",
    "layout = {'title':'Число инцидентов'}\n",
    "py.iplot({'data': data1, 'layout':layout}, filename='horizontal-bar')"
   ]
  },
  {
   "cell_type": "code",
   "execution_count": 34,
   "metadata": {},
   "outputs": [],
   "source": [
    "sub_data = np.random.choice(len(data), size=(10000), replace=False)"
   ]
  },
  {
   "cell_type": "code",
   "execution_count": 35,
   "metadata": {},
   "outputs": [
    {
     "data": {
      "text/html": [
       "<iframe id=\"igraph\" scrolling=\"no\" style=\"border:none;\" seamless=\"seamless\" src=\"https://plot.ly/~aleksey_dumbay/2.embed\" height=\"525px\" width=\"100%\"></iframe>"
      ],
      "text/plain": [
       "<plotly.tools.PlotlyDisplay object>"
      ]
     },
     "execution_count": 35,
     "metadata": {},
     "output_type": "execute_result"
    }
   ],
   "source": [
    "trace = go.Scatter(x=data.iloc[sub_data].n_killed + np.random.rand(len(sub_data))*0.2, \n",
    "                   y=data.iloc[sub_data].n_guns_involved + np.random.rand(len(sub_data))*0.4, \n",
    "                   mode = 'markers')\n",
    "layout = dict(title = 'Убийства и используемые орудия',\n",
    "               xaxis= dict(\n",
    "                    title= 'Убитые',\n",
    "                    ticklen= 5,\n",
    "                    zeroline= False,\n",
    "                    gridwidth= 1,\n",
    "                    dtick=1,\n",
    "                ),\n",
    "                yaxis=dict(\n",
    "                    title= 'Оружие',\n",
    "                    ticklen= 5,\n",
    "                    gridwidth= 1,\n",
    "                ),\n",
    "             )\n",
    "\n",
    "plot_data = [trace]\n",
    "py.iplot({'data': plot_data, 'layout':layout}, filename='basic-scatter')"
   ]
  },
  {
   "cell_type": "markdown",
   "metadata": {},
   "source": [
    "### Среднее число убитых с использованием числа оружия"
   ]
  },
  {
   "cell_type": "code",
   "execution_count": 41,
   "metadata": {},
   "outputs": [
    {
     "data": {
      "text/plain": [
       "n_guns_involved\n",
       "1.0    127548\n",
       "2.0      7477\n",
       "3.0      2021\n",
       "4.0       871\n",
       "5.0       435\n",
       "Name: date, dtype: int64"
      ]
     },
     "execution_count": 41,
     "metadata": {},
     "output_type": "execute_result"
    }
   ],
   "source": [
    "data.groupby('n_guns_involved').date.count().head()"
   ]
  },
  {
   "cell_type": "code",
   "execution_count": 37,
   "metadata": {},
   "outputs": [
    {
     "data": {
      "text/html": [
       "<iframe id=\"igraph\" scrolling=\"no\" style=\"border:none;\" seamless=\"seamless\" src=\"https://plot.ly/~aleksey_dumbay/2.embed\" height=\"525px\" width=\"100%\"></iframe>"
      ],
      "text/plain": [
       "<plotly.tools.PlotlyDisplay object>"
      ]
     },
     "execution_count": 37,
     "metadata": {},
     "output_type": "execute_result"
    }
   ],
   "source": [
    "by_gun = data.groupby('n_guns_involved').n_killed.mean()\n",
    "inj_gun = data.groupby('n_guns_involved').n_injured.mean()\n",
    "idx = (by_gun > 0) | (inj_gun > 0)\n",
    "by_gun = by_gun[idx]\n",
    "inj_gun = inj_gun[idx]\n",
    "layout = go.Layout(\n",
    "    title='Результаты, в зависимости от фигурировавшего вооружения',\n",
    "    xaxis=dict(\n",
    "        title='Число вооружения в инциденте',\n",
    "        tickfont=dict(\n",
    "            size=14,\n",
    "            color='rgb(107, 107, 107)'\n",
    "        ),\n",
    "    ),\n",
    "    yaxis=dict(\n",
    "        title='В среднем жертв',\n",
    "        titlefont=dict(\n",
    "            size=16,\n",
    "            color='rgb(107, 107, 107)'\n",
    "        ),\n",
    "        tickfont=dict(\n",
    "            size=14,\n",
    "            color='rgb(107, 107, 107)'\n",
    "        )\n",
    "    ),\n",
    "    legend=dict(\n",
    "        x=0,\n",
    "        y=1.0,\n",
    "        bgcolor='rgba(255, 255, 255, 0)',\n",
    "        bordercolor='rgba(255, 255, 255, 0)'\n",
    "    ),\n",
    "    barmode='group',\n",
    "    bargap=0.15,\n",
    "    bargroupgap=0.1\n",
    ")\n",
    "gun_data = go.Bar(\n",
    "            x=by_gun.index,\n",
    "            y=by_gun,\n",
    "            name='Среднее число убитых')\n",
    "inj_data = go.Bar(\n",
    "            x=inj_gun.index,\n",
    "            y=inj_gun,\n",
    "            name='Среднее число раненых')\n",
    "gun_data = [gun_data, inj_data]\n",
    "py.iplot({'data': gun_data, 'layout':layout}, filename='basic-scatter')"
   ]
  },
  {
   "cell_type": "code",
   "execution_count": null,
   "metadata": {},
   "outputs": [],
   "source": []
  },
  {
   "cell_type": "code",
   "execution_count": 38,
   "metadata": {},
   "outputs": [
    {
     "data": {
      "text/html": [
       "<div>\n",
       "<style scoped>\n",
       "    .dataframe tbody tr th:only-of-type {\n",
       "        vertical-align: middle;\n",
       "    }\n",
       "\n",
       "    .dataframe tbody tr th {\n",
       "        vertical-align: top;\n",
       "    }\n",
       "\n",
       "    .dataframe thead th {\n",
       "        text-align: right;\n",
       "    }\n",
       "</style>\n",
       "<table border=\"1\" class=\"dataframe\">\n",
       "  <thead>\n",
       "    <tr style=\"text-align: right;\">\n",
       "      <th></th>\n",
       "      <th>date</th>\n",
       "      <th>state</th>\n",
       "      <th>city_or_county</th>\n",
       "      <th>address</th>\n",
       "      <th>n_killed</th>\n",
       "      <th>n_injured</th>\n",
       "      <th>incident_url</th>\n",
       "      <th>source_url</th>\n",
       "      <th>incident_url_fields_missing</th>\n",
       "      <th>congressional_district</th>\n",
       "      <th>...</th>\n",
       "      <th>participant_age_group</th>\n",
       "      <th>participant_gender</th>\n",
       "      <th>participant_name</th>\n",
       "      <th>participant_relationship</th>\n",
       "      <th>participant_status</th>\n",
       "      <th>participant_type</th>\n",
       "      <th>sources</th>\n",
       "      <th>state_house_district</th>\n",
       "      <th>state_senate_district</th>\n",
       "      <th>mean_age</th>\n",
       "    </tr>\n",
       "    <tr>\n",
       "      <th>incident_id</th>\n",
       "      <th></th>\n",
       "      <th></th>\n",
       "      <th></th>\n",
       "      <th></th>\n",
       "      <th></th>\n",
       "      <th></th>\n",
       "      <th></th>\n",
       "      <th></th>\n",
       "      <th></th>\n",
       "      <th></th>\n",
       "      <th></th>\n",
       "      <th></th>\n",
       "      <th></th>\n",
       "      <th></th>\n",
       "      <th></th>\n",
       "      <th></th>\n",
       "      <th></th>\n",
       "      <th></th>\n",
       "      <th></th>\n",
       "      <th></th>\n",
       "      <th></th>\n",
       "    </tr>\n",
       "  </thead>\n",
       "  <tbody>\n",
       "    <tr>\n",
       "      <th>389578</th>\n",
       "      <td>2015-08-03</td>\n",
       "      <td>Pennsylvania</td>\n",
       "      <td>Palmyra</td>\n",
       "      <td>2703 Horseshoe Pike</td>\n",
       "      <td>1</td>\n",
       "      <td>0</td>\n",
       "      <td>http://www.gunviolencearchive.org/incident/389578</td>\n",
       "      <td>http://fox43.com/2016/03/30/da-says-police-sho...</td>\n",
       "      <td>False</td>\n",
       "      <td>15.0</td>\n",
       "      <td>...</td>\n",
       "      <td>0::Adult 18+</td>\n",
       "      <td>0::Male</td>\n",
       "      <td>0::Joshua Malave</td>\n",
       "      <td>NaN</td>\n",
       "      <td>0::Killed</td>\n",
       "      <td>0::Subject-Suspect</td>\n",
       "      <td>http://philadelphia.cbslocal.com/2015/08/07/da...</td>\n",
       "      <td>NaN</td>\n",
       "      <td>NaN</td>\n",
       "      <td>18.0</td>\n",
       "    </tr>\n",
       "    <tr>\n",
       "      <th>623150</th>\n",
       "      <td>2016-08-05</td>\n",
       "      <td>New Jersey</td>\n",
       "      <td>Gloucester City</td>\n",
       "      <td>800 block of Brown Street</td>\n",
       "      <td>0</td>\n",
       "      <td>0</td>\n",
       "      <td>http://www.gunviolencearchive.org/incident/623150</td>\n",
       "      <td>http://www.courierpostonline.com/story/news/20...</td>\n",
       "      <td>False</td>\n",
       "      <td>1.0</td>\n",
       "      <td>...</td>\n",
       "      <td>0::Adult 18+</td>\n",
       "      <td>0::Male</td>\n",
       "      <td>0::George Walker</td>\n",
       "      <td>NaN</td>\n",
       "      <td>0::Unharmed, Arrested</td>\n",
       "      <td>0::Subject-Suspect</td>\n",
       "      <td>http://www.courierpostonline.com/story/news/20...</td>\n",
       "      <td>5.0</td>\n",
       "      <td>5.0</td>\n",
       "      <td>34.0</td>\n",
       "    </tr>\n",
       "  </tbody>\n",
       "</table>\n",
       "<p>2 rows × 29 columns</p>\n",
       "</div>"
      ],
      "text/plain": [
       "                   date         state   city_or_county  \\\n",
       "incident_id                                              \n",
       "389578       2015-08-03  Pennsylvania          Palmyra   \n",
       "623150       2016-08-05    New Jersey  Gloucester City   \n",
       "\n",
       "                               address  n_killed  n_injured  \\\n",
       "incident_id                                                   \n",
       "389578             2703 Horseshoe Pike         1          0   \n",
       "623150       800 block of Brown Street         0          0   \n",
       "\n",
       "                                                  incident_url  \\\n",
       "incident_id                                                      \n",
       "389578       http://www.gunviolencearchive.org/incident/389578   \n",
       "623150       http://www.gunviolencearchive.org/incident/623150   \n",
       "\n",
       "                                                    source_url  \\\n",
       "incident_id                                                      \n",
       "389578       http://fox43.com/2016/03/30/da-says-police-sho...   \n",
       "623150       http://www.courierpostonline.com/story/news/20...   \n",
       "\n",
       "             incident_url_fields_missing  congressional_district   ...     \\\n",
       "incident_id                                                        ...      \n",
       "389578                             False                    15.0   ...      \n",
       "623150                             False                     1.0   ...      \n",
       "\n",
       "            participant_age_group participant_gender  participant_name  \\\n",
       "incident_id                                                              \n",
       "389578               0::Adult 18+            0::Male  0::Joshua Malave   \n",
       "623150               0::Adult 18+            0::Male  0::George Walker   \n",
       "\n",
       "             participant_relationship     participant_status  \\\n",
       "incident_id                                                    \n",
       "389578                            NaN              0::Killed   \n",
       "623150                            NaN  0::Unharmed, Arrested   \n",
       "\n",
       "               participant_type  \\\n",
       "incident_id                       \n",
       "389578       0::Subject-Suspect   \n",
       "623150       0::Subject-Suspect   \n",
       "\n",
       "                                                       sources  \\\n",
       "incident_id                                                      \n",
       "389578       http://philadelphia.cbslocal.com/2015/08/07/da...   \n",
       "623150       http://www.courierpostonline.com/story/news/20...   \n",
       "\n",
       "            state_house_district state_senate_district mean_age  \n",
       "incident_id                                                      \n",
       "389578                       NaN                   NaN     18.0  \n",
       "623150                       5.0                   5.0     34.0  \n",
       "\n",
       "[2 rows x 29 columns]"
      ]
     },
     "execution_count": 38,
     "metadata": {},
     "output_type": "execute_result"
    }
   ],
   "source": [
    "data[data.n_guns_involved==81]"
   ]
  },
  {
   "cell_type": "code",
   "execution_count": 39,
   "metadata": {},
   "outputs": [
    {
     "data": {
      "text/html": [
       "<div>\n",
       "<style scoped>\n",
       "    .dataframe tbody tr th:only-of-type {\n",
       "        vertical-align: middle;\n",
       "    }\n",
       "\n",
       "    .dataframe tbody tr th {\n",
       "        vertical-align: top;\n",
       "    }\n",
       "\n",
       "    .dataframe thead th {\n",
       "        text-align: right;\n",
       "    }\n",
       "</style>\n",
       "<table border=\"1\" class=\"dataframe\">\n",
       "  <thead>\n",
       "    <tr style=\"text-align: right;\">\n",
       "      <th></th>\n",
       "      <th>date</th>\n",
       "      <th>state</th>\n",
       "      <th>city_or_county</th>\n",
       "      <th>address</th>\n",
       "      <th>n_killed</th>\n",
       "      <th>n_injured</th>\n",
       "      <th>incident_url</th>\n",
       "      <th>source_url</th>\n",
       "      <th>incident_url_fields_missing</th>\n",
       "      <th>congressional_district</th>\n",
       "      <th>...</th>\n",
       "      <th>participant_age_group</th>\n",
       "      <th>participant_gender</th>\n",
       "      <th>participant_name</th>\n",
       "      <th>participant_relationship</th>\n",
       "      <th>participant_status</th>\n",
       "      <th>participant_type</th>\n",
       "      <th>sources</th>\n",
       "      <th>state_house_district</th>\n",
       "      <th>state_senate_district</th>\n",
       "      <th>mean_age</th>\n",
       "    </tr>\n",
       "    <tr>\n",
       "      <th>incident_id</th>\n",
       "      <th></th>\n",
       "      <th></th>\n",
       "      <th></th>\n",
       "      <th></th>\n",
       "      <th></th>\n",
       "      <th></th>\n",
       "      <th></th>\n",
       "      <th></th>\n",
       "      <th></th>\n",
       "      <th></th>\n",
       "      <th></th>\n",
       "      <th></th>\n",
       "      <th></th>\n",
       "      <th></th>\n",
       "      <th></th>\n",
       "      <th></th>\n",
       "      <th></th>\n",
       "      <th></th>\n",
       "      <th></th>\n",
       "      <th></th>\n",
       "      <th></th>\n",
       "    </tr>\n",
       "  </thead>\n",
       "  <tbody>\n",
       "    <tr>\n",
       "      <th>391712</th>\n",
       "      <td>2015-08-08</td>\n",
       "      <td>Ohio</td>\n",
       "      <td>Dayton</td>\n",
       "      <td>8945 Kingsridge Dr</td>\n",
       "      <td>0</td>\n",
       "      <td>1</td>\n",
       "      <td>http://www.gunviolencearchive.org/incident/391712</td>\n",
       "      <td>http://www.whio.com/news/news/crime-law/second...</td>\n",
       "      <td>False</td>\n",
       "      <td>10.0</td>\n",
       "      <td>...</td>\n",
       "      <td>0::Adult 18+||1::Adult 18+||2::Adult 18+</td>\n",
       "      <td>0::Male||1::Male||2::Male</td>\n",
       "      <td>0::Nathan Wilson||1::Larry Darnell O'Neal Jr||...</td>\n",
       "      <td>NaN</td>\n",
       "      <td>0::Unharmed, Arrested||1::Unharmed, Arrested||...</td>\n",
       "      <td>0::Subject-Suspect||1::Subject-Suspect||2::Sub...</td>\n",
       "      <td>http://www.whio.com/news/news/crime-law/video-...</td>\n",
       "      <td>42.0</td>\n",
       "      <td>6.0</td>\n",
       "      <td>19.333333</td>\n",
       "    </tr>\n",
       "    <tr>\n",
       "      <th>708361</th>\n",
       "      <td>2016-09-18</td>\n",
       "      <td>Illinois</td>\n",
       "      <td>Chicago</td>\n",
       "      <td>77th and Avalon</td>\n",
       "      <td>0</td>\n",
       "      <td>0</td>\n",
       "      <td>http://www.gunviolencearchive.org/incident/708361</td>\n",
       "      <td>http://chicago.cbslocal.com/2016/11/22/2-inves...</td>\n",
       "      <td>False</td>\n",
       "      <td>1.0</td>\n",
       "      <td>...</td>\n",
       "      <td>NaN</td>\n",
       "      <td>NaN</td>\n",
       "      <td>NaN</td>\n",
       "      <td>NaN</td>\n",
       "      <td>NaN</td>\n",
       "      <td>NaN</td>\n",
       "      <td>http://chicago.cbslocal.com/2016/11/22/2-inves...</td>\n",
       "      <td>5.0</td>\n",
       "      <td>3.0</td>\n",
       "      <td>NaN</td>\n",
       "    </tr>\n",
       "  </tbody>\n",
       "</table>\n",
       "<p>2 rows × 29 columns</p>\n",
       "</div>"
      ],
      "text/plain": [
       "                   date     state city_or_county             address  \\\n",
       "incident_id                                                            \n",
       "391712       2015-08-08      Ohio         Dayton  8945 Kingsridge Dr   \n",
       "708361       2016-09-18  Illinois        Chicago     77th and Avalon   \n",
       "\n",
       "             n_killed  n_injured  \\\n",
       "incident_id                        \n",
       "391712              0          1   \n",
       "708361              0          0   \n",
       "\n",
       "                                                  incident_url  \\\n",
       "incident_id                                                      \n",
       "391712       http://www.gunviolencearchive.org/incident/391712   \n",
       "708361       http://www.gunviolencearchive.org/incident/708361   \n",
       "\n",
       "                                                    source_url  \\\n",
       "incident_id                                                      \n",
       "391712       http://www.whio.com/news/news/crime-law/second...   \n",
       "708361       http://chicago.cbslocal.com/2016/11/22/2-inves...   \n",
       "\n",
       "             incident_url_fields_missing  congressional_district    ...      \\\n",
       "incident_id                                                         ...       \n",
       "391712                             False                    10.0    ...       \n",
       "708361                             False                     1.0    ...       \n",
       "\n",
       "                                participant_age_group  \\\n",
       "incident_id                                             \n",
       "391712       0::Adult 18+||1::Adult 18+||2::Adult 18+   \n",
       "708361                                            NaN   \n",
       "\n",
       "                    participant_gender  \\\n",
       "incident_id                              \n",
       "391712       0::Male||1::Male||2::Male   \n",
       "708361                             NaN   \n",
       "\n",
       "                                              participant_name  \\\n",
       "incident_id                                                      \n",
       "391712       0::Nathan Wilson||1::Larry Darnell O'Neal Jr||...   \n",
       "708361                                                     NaN   \n",
       "\n",
       "             participant_relationship  \\\n",
       "incident_id                             \n",
       "391712                            NaN   \n",
       "708361                            NaN   \n",
       "\n",
       "                                            participant_status  \\\n",
       "incident_id                                                      \n",
       "391712       0::Unharmed, Arrested||1::Unharmed, Arrested||...   \n",
       "708361                                                     NaN   \n",
       "\n",
       "                                              participant_type  \\\n",
       "incident_id                                                      \n",
       "391712       0::Subject-Suspect||1::Subject-Suspect||2::Sub...   \n",
       "708361                                                     NaN   \n",
       "\n",
       "                                                       sources  \\\n",
       "incident_id                                                      \n",
       "391712       http://www.whio.com/news/news/crime-law/video-...   \n",
       "708361       http://chicago.cbslocal.com/2016/11/22/2-inves...   \n",
       "\n",
       "            state_house_district state_senate_district   mean_age  \n",
       "incident_id                                                        \n",
       "391712                      42.0                   6.0  19.333333  \n",
       "708361                       5.0                   3.0        NaN  \n",
       "\n",
       "[2 rows x 29 columns]"
      ]
     },
     "execution_count": 39,
     "metadata": {},
     "output_type": "execute_result"
    }
   ],
   "source": [
    "data[data.n_guns_involved==33]"
   ]
  },
  {
   "cell_type": "markdown",
   "metadata": {},
   "source": [
    "### Общее число"
   ]
  },
  {
   "cell_type": "code",
   "execution_count": 40,
   "metadata": {},
   "outputs": [
    {
     "data": {
      "text/html": [
       "<iframe id=\"igraph\" scrolling=\"no\" style=\"border:none;\" seamless=\"seamless\" src=\"https://plot.ly/~aleksey_dumbay/2.embed\" height=\"525px\" width=\"100%\"></iframe>"
      ],
      "text/plain": [
       "<plotly.tools.PlotlyDisplay object>"
      ]
     },
     "execution_count": 40,
     "metadata": {},
     "output_type": "execute_result"
    }
   ],
   "source": [
    "by_gun = data.groupby('n_guns_involved').n_killed.sum()\n",
    "inj_gun = data.groupby('n_guns_involved').n_injured.sum()\n",
    "idx = (by_gun > 0) | (inj_gun > 0)\n",
    "by_gun = by_gun[idx]\n",
    "inj_gun = inj_gun[idx]\n",
    "layout = go.Layout(\n",
    "    title='Число используемого оружия',\n",
    "    xaxis=dict(\n",
    "        title='Число оружия',\n",
    "        tickfont=dict(\n",
    "            size=14,\n",
    "            color='rgb(107, 107, 107)'\n",
    "        ),\n",
    "    ),\n",
    "    yaxis=dict(\n",
    "        title='Среднее число убитых',\n",
    "        titlefont=dict(\n",
    "            size=16,\n",
    "            color='rgb(107, 107, 107)'\n",
    "        ),\n",
    "        tickfont=dict(\n",
    "            size=14,\n",
    "            color='rgb(107, 107, 107)'\n",
    "        )\n",
    "    ),\n",
    "    legend=dict(\n",
    "        x=0,\n",
    "        y=1.0,\n",
    "        bgcolor='rgba(255, 255, 255, 0)',\n",
    "        bordercolor='rgba(255, 255, 255, 0)'\n",
    "    ),\n",
    "    barmode='group',\n",
    "    bargap=0.15,\n",
    "    bargroupgap=0.1\n",
    ")\n",
    "gun_data = go.Bar(\n",
    "            x=by_gun.index,\n",
    "            y=by_gun,\n",
    "            name='Среднее число убитых')\n",
    "inj_data = go.Bar(\n",
    "            x=inj_gun.index,\n",
    "            y=inj_gun,\n",
    "            name='Среднее число раненых')\n",
    "gun_data = [gun_data, inj_data]\n",
    "py.iplot({'data': gun_data, 'layout':layout}, filename='basic-scatter')"
   ]
  },
  {
   "cell_type": "markdown",
   "metadata": {},
   "source": [
    "## Исследуем типы оружия"
   ]
  },
  {
   "cell_type": "code",
   "execution_count": 57,
   "metadata": {},
   "outputs": [],
   "source": [
    "guns =  [x.split('||') if x is not np.nan else np.nan for x in data.gun_type.values]\n",
    "guns = [np.random.choice([y.split(':')[-1] for y in x]) if x is not np.nan else np.nan for x  in guns]"
   ]
  },
  {
   "cell_type": "code",
   "execution_count": 58,
   "metadata": {},
   "outputs": [],
   "source": [
    "data['random_gun_type'] = guns"
   ]
  },
  {
   "cell_type": "code",
   "execution_count": 64,
   "metadata": {},
   "outputs": [],
   "source": [
    "weapon_age = data[['mean_age', 'random_gun_type']].dropna()"
   ]
  },
  {
   "cell_type": "code",
   "execution_count": 70,
   "metadata": {},
   "outputs": [],
   "source": [
    "mean_age = weapon_age.groupby('random_gun_type').mean()\n",
    "total_users = weapon_age.groupby('random_gun_type').count()"
   ]
  },
  {
   "cell_type": "code",
   "execution_count": 75,
   "metadata": {},
   "outputs": [],
   "source": [
    "total_users = total_users.drop('Unknown', axis=0)"
   ]
  },
  {
   "cell_type": "code",
   "execution_count": 83,
   "metadata": {},
   "outputs": [
    {
     "data": {
      "text/html": [
       "<iframe id=\"igraph\" scrolling=\"no\" style=\"border:none;\" seamless=\"seamless\" src=\"https://plot.ly/~aleksey_dumbay/5.embed\" height=\"525px\" width=\"100%\"></iframe>"
      ],
      "text/plain": [
       "<plotly.tools.PlotlyDisplay object>"
      ]
     },
     "execution_count": 83,
     "metadata": {},
     "output_type": "execute_result"
    }
   ],
   "source": [
    "data1 = [go.Bar(\n",
    "            y=total_users.values,\n",
    "            x=total_users.index\n",
    ")]\n",
    "layout = {'title':'Число инцидентов'\n",
    "    }\n",
    "py.iplot({'data': data1, 'layout':layout}, filename='horizontal-bar')"
   ]
  },
  {
   "cell_type": "code",
   "execution_count": 85,
   "metadata": {},
   "outputs": [
    {
     "data": {
      "text/html": [
       "<iframe id=\"igraph\" scrolling=\"no\" style=\"border:none;\" seamless=\"seamless\" src=\"https://plot.ly/~aleksey_dumbay/5.embed\" height=\"525px\" width=\"100%\"></iframe>"
      ],
      "text/plain": [
       "<plotly.tools.PlotlyDisplay object>"
      ]
     },
     "execution_count": 85,
     "metadata": {},
     "output_type": "execute_result"
    }
   ],
   "source": [
    "data1 = [go.Bar(\n",
    "            y=mean_age.values,\n",
    "            x=mean_age.index\n",
    ")]\n",
    "layout = {'title':'Средний возраст, лет'\n",
    "    }\n",
    "py.iplot({'data': data1, 'layout':layout}, filename='horizontal-bar')"
   ]
  },
  {
   "cell_type": "code",
   "execution_count": 135,
   "metadata": {},
   "outputs": [],
   "source": [
    "guns =  [x.split('||') if x is not np.nan else np.nan for x in data.gun_type.values]\n",
    "guns = [[y.split(':')[-1] for y in x] if x is not np.nan else np.nan for x  in guns]"
   ]
  },
  {
   "cell_type": "code",
   "execution_count": 136,
   "metadata": {},
   "outputs": [],
   "source": [
    "guns = [gun for gun in guns if gun is not np.nan]"
   ]
  },
  {
   "cell_type": "code",
   "execution_count": 137,
   "metadata": {},
   "outputs": [],
   "source": [
    "guns_uniq = np.unique([x[0] for x in guns])"
   ]
  },
  {
   "cell_type": "code",
   "execution_count": 138,
   "metadata": {},
   "outputs": [],
   "source": [
    "mapping = dict((gun, i) for i, gun in enumerate(guns_uniq))"
   ]
  },
  {
   "cell_type": "code",
   "execution_count": 139,
   "metadata": {},
   "outputs": [],
   "source": [
    "heatmap = np.zeros((len(guns_uniq), len(guns_uniq)))"
   ]
  },
  {
   "cell_type": "code",
   "execution_count": 167,
   "metadata": {},
   "outputs": [],
   "source": [
    "for gun in guns:\n",
    "    if isinstance(gun, list):\n",
    "        for gun_combo in combinations(gun, 2):\n",
    "            tmp = list(gun_combo)\n",
    "            heatmap[mapping[tmp[0]], mapping[tmp[1]]] += 1.\n",
    "            heatmap[mapping[tmp[1]], mapping[tmp[0]]] += 1."
   ]
  },
  {
   "cell_type": "code",
   "execution_count": 168,
   "metadata": {},
   "outputs": [],
   "source": [
    "df = pd.DataFrame(heatmap, index=guns_uniq, columns=guns_uniq)\n",
    "df = df.drop('Unknown', axis=0)\n",
    "df = df.drop('Unknown', axis=1)"
   ]
  },
  {
   "cell_type": "code",
   "execution_count": 169,
   "metadata": {},
   "outputs": [
    {
     "data": {
      "text/html": [
       "<iframe id=\"igraph\" scrolling=\"no\" style=\"border:none;\" seamless=\"seamless\" src=\"https://plot.ly/~aleksey_dumbay/7.embed\" height=\"1000px\" width=\"1000px\"></iframe>"
      ],
      "text/plain": [
       "<plotly.tools.PlotlyDisplay object>"
      ]
     },
     "execution_count": 169,
     "metadata": {},
     "output_type": "execute_result"
    }
   ],
   "source": [
    "trace = go.Heatmap(z=df.values, x=guns_uniq, y=guns_uniq, colorscale = 'Viridis')\n",
    "layout = {'title':'Пары оружия', 'height' : 1000, 'width':1000}\n",
    "data=[trace]\n",
    "py.iplot({'data': data, 'layout':layout}, filename='basic-heatmap')"
   ]
  },
  {
   "cell_type": "code",
   "execution_count": 170,
   "metadata": {},
   "outputs": [],
   "source": [
    "df = df.drop('Handgun', axis=0)\n",
    "df = df.drop('Handgun', axis=1)"
   ]
  },
  {
   "cell_type": "code",
   "execution_count": 172,
   "metadata": {},
   "outputs": [
    {
     "data": {
      "text/html": [
       "<iframe id=\"igraph\" scrolling=\"no\" style=\"border:none;\" seamless=\"seamless\" src=\"https://plot.ly/~aleksey_dumbay/7.embed\" height=\"1000px\" width=\"1000px\"></iframe>"
      ],
      "text/plain": [
       "<plotly.tools.PlotlyDisplay object>"
      ]
     },
     "execution_count": 172,
     "metadata": {},
     "output_type": "execute_result"
    }
   ],
   "source": [
    "trace = go.Heatmap(z=df.values, x=df.index, y=df.index, colorscale = 'Viridis')\n",
    "layout = {'title':'Пары оружия', 'height' : 1000, 'width':1000}\n",
    "data=[trace]\n",
    "py.iplot({'data': data, 'layout':layout}, filename='basic-heatmap')"
   ]
  },
  {
   "cell_type": "code",
   "execution_count": null,
   "metadata": {},
   "outputs": [],
   "source": []
  }
 ],
 "metadata": {
  "kernelspec": {
   "display_name": "Python 3",
   "language": "python",
   "name": "python3"
  }
 },
 "nbformat": 4,
 "nbformat_minor": 2
}
